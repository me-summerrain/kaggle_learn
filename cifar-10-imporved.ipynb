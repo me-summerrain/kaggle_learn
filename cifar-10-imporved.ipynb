{
 "cells": [
  {
   "cell_type": "code",
   "execution_count": 1,
   "id": "219e80a0",
   "metadata": {
    "_cell_guid": "b1076dfc-b9ad-4769-8c92-a6c4dae69d19",
    "_uuid": "8f2839f25d086af736a60e9eeb907d3b93b6e0e5",
    "execution": {
     "iopub.execute_input": "2025-05-15T13:04:48.889723Z",
     "iopub.status.busy": "2025-05-15T13:04:48.889473Z",
     "iopub.status.idle": "2025-05-15T13:04:50.299818Z",
     "shell.execute_reply": "2025-05-15T13:04:50.299236Z"
    },
    "papermill": {
     "duration": 1.41592,
     "end_time": "2025-05-15T13:04:50.301156",
     "exception": false,
     "start_time": "2025-05-15T13:04:48.885236",
     "status": "completed"
    },
    "tags": []
   },
   "outputs": [],
   "source": [
    "# This Python 3 environment comes with many helpful analytics libraries installed\n",
    "# It is defined by the kaggle/python Docker image: https://github.com/kaggle/docker-python\n",
    "# For example, here's several helpful packages to load\n",
    "\n",
    "import numpy as np # linear algebra\n",
    "import pandas as pd # data processing, CSV file I/O (e.g. pd.read_csv)\n",
    "\n",
    "# Input data files are available in the read-only \"../input/\" directory\n",
    "# For example, running this (by clicking run or pressing Shift+Enter) will list all files under the input directory\n",
    "\n",
    "import os\n",
    "for dirname, _, filenames in os.walk('/kaggle/input'):\n",
    "    for filename in filenames:\n",
    "        print(os.path.join(dirname, filename))\n",
    "\n",
    "# You can write up to 20GB to the current directory (/kaggle/working/) that gets preserved as output when you create a version using \"Save & Run All\" \n",
    "# You can also write temporary files to /kaggle/temp/, but they won't be saved outside of the current session"
   ]
  },
  {
   "cell_type": "code",
   "execution_count": 2,
   "id": "0247a570",
   "metadata": {
    "execution": {
     "iopub.execute_input": "2025-05-15T13:04:50.308111Z",
     "iopub.status.busy": "2025-05-15T13:04:50.307831Z",
     "iopub.status.idle": "2025-05-15T13:04:59.971988Z",
     "shell.execute_reply": "2025-05-15T13:04:59.971413Z"
    },
    "papermill": {
     "duration": 9.668905,
     "end_time": "2025-05-15T13:04:59.973231",
     "exception": false,
     "start_time": "2025-05-15T13:04:50.304326",
     "status": "completed"
    },
    "tags": []
   },
   "outputs": [],
   "source": [
    "import os\n",
    "import numpy as np\n",
    "import torch\n",
    "import torch.nn as nn\n",
    "import torch.optim as optim\n",
    "from torch.optim.lr_scheduler import CosineAnnealingLR\n",
    "from torch.utils.data import DataLoader\n",
    "from torchvision import datasets, transforms, models\n",
    "from tqdm import tqdm\n",
    "import matplotlib.pyplot as plt\n",
    "from PIL import Image"
   ]
  },
  {
   "cell_type": "code",
   "execution_count": 3,
   "id": "259e4209",
   "metadata": {
    "execution": {
     "iopub.execute_input": "2025-05-15T13:04:59.979797Z",
     "iopub.status.busy": "2025-05-15T13:04:59.979236Z",
     "iopub.status.idle": "2025-05-15T13:05:00.040399Z",
     "shell.execute_reply": "2025-05-15T13:05:00.039573Z"
    },
    "papermill": {
     "duration": 0.065937,
     "end_time": "2025-05-15T13:05:00.042054",
     "exception": false,
     "start_time": "2025-05-15T13:04:59.976117",
     "status": "completed"
    },
    "tags": []
   },
   "outputs": [
    {
     "name": "stdout",
     "output_type": "stream",
     "text": [
      "Using device: cuda\n"
     ]
    }
   ],
   "source": [
    "device = torch.device('cuda' if torch.cuda.is_available() else 'cpu')\n",
    "print(f\"Using device: {device}\")"
   ]
  },
  {
   "cell_type": "code",
   "execution_count": 4,
   "id": "3801e50d",
   "metadata": {
    "execution": {
     "iopub.execute_input": "2025-05-15T13:05:00.052173Z",
     "iopub.status.busy": "2025-05-15T13:05:00.051974Z",
     "iopub.status.idle": "2025-05-15T13:05:00.055873Z",
     "shell.execute_reply": "2025-05-15T13:05:00.055307Z"
    },
    "papermill": {
     "duration": 0.008701,
     "end_time": "2025-05-15T13:05:00.056949",
     "exception": false,
     "start_time": "2025-05-15T13:05:00.048248",
     "status": "completed"
    },
    "tags": []
   },
   "outputs": [],
   "source": [
    "num_epochs = 50\n",
    "batch_size = 128\n",
    "learning_rate = 1e-3\n",
    "weight_decay = 1e-4\n",
    "mixup_alpha = 0.4\n",
    "num_classes = 10\n",
    "class_names = ['plane','car','bird','cat','deer','dog','frog','horse','ship','truck']"
   ]
  },
  {
   "cell_type": "code",
   "execution_count": 5,
   "id": "e4ff694e",
   "metadata": {
    "execution": {
     "iopub.execute_input": "2025-05-15T13:05:00.063535Z",
     "iopub.status.busy": "2025-05-15T13:05:00.063309Z",
     "iopub.status.idle": "2025-05-15T13:05:14.804587Z",
     "shell.execute_reply": "2025-05-15T13:05:14.803760Z"
    },
    "papermill": {
     "duration": 14.746305,
     "end_time": "2025-05-15T13:05:14.806008",
     "exception": false,
     "start_time": "2025-05-15T13:05:00.059703",
     "status": "completed"
    },
    "tags": []
   },
   "outputs": [
    {
     "name": "stderr",
     "output_type": "stream",
     "text": [
      "100%|██████████| 170M/170M [00:10<00:00, 16.1MB/s]\n"
     ]
    }
   ],
   "source": [
    "# ### 3. Data Augmentation & Loaders\n",
    "mean = [0.4914, 0.4822, 0.4465]\n",
    "std = [0.2470, 0.2435, 0.2616]\n",
    "\n",
    "train_transforms = transforms.Compose([\n",
    "    transforms.RandomCrop(32, padding=4),\n",
    "    transforms.RandomHorizontalFlip(),\n",
    "    transforms.ToTensor(),\n",
    "    transforms.Normalize(mean, std),\n",
    "])\n",
    "\n",
    "test_transforms = transforms.Compose([\n",
    "    transforms.ToTensor(),\n",
    "    transforms.Normalize(mean, std),\n",
    "])\n",
    "\n",
    "train_dataset = datasets.CIFAR10(root='./data', train=True, download=True, transform=train_transforms)\n",
    "test_dataset = datasets.CIFAR10(root='./data', train=False, download=True, transform=test_transforms)\n",
    "\n",
    "train_loader = DataLoader(train_dataset, batch_size=batch_size, shuffle=True, num_workers=4)\n",
    "test_loader = DataLoader(test_dataset, batch_size=batch_size, shuffle=False, num_workers=4)\n"
   ]
  },
  {
   "cell_type": "code",
   "execution_count": 6,
   "id": "be362e5d",
   "metadata": {
    "execution": {
     "iopub.execute_input": "2025-05-15T13:05:14.817365Z",
     "iopub.status.busy": "2025-05-15T13:05:14.817144Z",
     "iopub.status.idle": "2025-05-15T13:05:14.821603Z",
     "shell.execute_reply": "2025-05-15T13:05:14.820922Z"
    },
    "papermill": {
     "duration": 0.011152,
     "end_time": "2025-05-15T13:05:14.822641",
     "exception": false,
     "start_time": "2025-05-15T13:05:14.811489",
     "status": "completed"
    },
    "tags": []
   },
   "outputs": [],
   "source": [
    "# ### 4. MixUp Function\n",
    "\n",
    "def mixup_data(x, y, alpha=1.0):\n",
    "    if alpha > 0:\n",
    "        lam = np.random.beta(alpha, alpha)\n",
    "    else:\n",
    "        lam = 1\n",
    "    batch_size = x.size()[0]\n",
    "    index = torch.randperm(batch_size).to(device)\n",
    "    mixed_x = lam * x + (1 - lam) * x[index, :]\n",
    "    y_a, y_b = y, y[index]\n",
    "    return mixed_x, y_a, y_b, lam"
   ]
  },
  {
   "cell_type": "code",
   "execution_count": 7,
   "id": "d3c606ed",
   "metadata": {
    "execution": {
     "iopub.execute_input": "2025-05-15T13:05:14.832889Z",
     "iopub.status.busy": "2025-05-15T13:05:14.832694Z",
     "iopub.status.idle": "2025-05-15T13:05:15.778395Z",
     "shell.execute_reply": "2025-05-15T13:05:15.777584Z"
    },
    "papermill": {
     "duration": 0.952388,
     "end_time": "2025-05-15T13:05:15.779859",
     "exception": false,
     "start_time": "2025-05-15T13:05:14.827471",
     "status": "completed"
    },
    "tags": []
   },
   "outputs": [
    {
     "name": "stderr",
     "output_type": "stream",
     "text": [
      "/usr/local/lib/python3.11/dist-packages/torchvision/models/_utils.py:208: UserWarning: The parameter 'pretrained' is deprecated since 0.13 and may be removed in the future, please use 'weights' instead.\n",
      "  warnings.warn(\n",
      "/usr/local/lib/python3.11/dist-packages/torchvision/models/_utils.py:223: UserWarning: Arguments other than a weight enum or `None` for 'weights' are deprecated since 0.13 and may be removed in the future. The current behavior is equivalent to passing `weights=ResNet18_Weights.IMAGENET1K_V1`. You can also use `weights=ResNet18_Weights.DEFAULT` to get the most up-to-date weights.\n",
      "  warnings.warn(msg)\n",
      "Downloading: \"https://download.pytorch.org/models/resnet18-f37072fd.pth\" to /root/.cache/torch/hub/checkpoints/resnet18-f37072fd.pth\n",
      "100%|██████████| 44.7M/44.7M [00:00<00:00, 107MB/s]\n"
     ]
    }
   ],
   "source": [
    "# ### 5. Model: Pretrained ResNet-18\n",
    "model = models.resnet18(pretrained=True)\n",
    "model.fc = nn.Linear(model.fc.in_features, num_classes)\n",
    "model = model.to(device)"
   ]
  },
  {
   "cell_type": "code",
   "execution_count": 8,
   "id": "57cc013b",
   "metadata": {
    "execution": {
     "iopub.execute_input": "2025-05-15T13:05:15.792677Z",
     "iopub.status.busy": "2025-05-15T13:05:15.792412Z",
     "iopub.status.idle": "2025-05-15T13:05:15.796643Z",
     "shell.execute_reply": "2025-05-15T13:05:15.795953Z"
    },
    "papermill": {
     "duration": 0.011956,
     "end_time": "2025-05-15T13:05:15.797707",
     "exception": false,
     "start_time": "2025-05-15T13:05:15.785751",
     "status": "completed"
    },
    "tags": []
   },
   "outputs": [],
   "source": [
    "# ### 6. Loss, Optimizer, Scheduler\n",
    "criterion = nn.CrossEntropyLoss()\n",
    "optimizer = optim.AdamW(model.parameters(), lr=learning_rate, weight_decay=weight_decay)\n",
    "scheduler = CosineAnnealingLR(optimizer, T_max=num_epochs)"
   ]
  },
  {
   "cell_type": "code",
   "execution_count": 9,
   "id": "b194d13e",
   "metadata": {
    "execution": {
     "iopub.execute_input": "2025-05-15T13:05:15.809348Z",
     "iopub.status.busy": "2025-05-15T13:05:15.808805Z",
     "iopub.status.idle": "2025-05-15T13:27:21.673714Z",
     "shell.execute_reply": "2025-05-15T13:27:21.672641Z"
    },
    "papermill": {
     "duration": 1325.871879,
     "end_time": "2025-05-15T13:27:21.674918",
     "exception": false,
     "start_time": "2025-05-15T13:05:15.803039",
     "status": "completed"
    },
    "tags": []
   },
   "outputs": [
    {
     "name": "stderr",
     "output_type": "stream",
     "text": [
      "Epoch 1/50: 100%|██████████| 391/391 [00:26<00:00, 14.89it/s]\n"
     ]
    },
    {
     "name": "stdout",
     "output_type": "stream",
     "text": [
      "Epoch 1: Loss 1.4778, Train Acc 52.66%, Test Acc 70.05%\n"
     ]
    },
    {
     "name": "stderr",
     "output_type": "stream",
     "text": [
      "Epoch 2/50: 100%|██████████| 391/391 [00:25<00:00, 15.53it/s]\n"
     ]
    },
    {
     "name": "stdout",
     "output_type": "stream",
     "text": [
      "Epoch 2: Loss 1.2842, Train Acc 60.49%, Test Acc 75.36%\n"
     ]
    },
    {
     "name": "stderr",
     "output_type": "stream",
     "text": [
      "Epoch 3/50: 100%|██████████| 391/391 [00:25<00:00, 15.49it/s]\n"
     ]
    },
    {
     "name": "stdout",
     "output_type": "stream",
     "text": [
      "Epoch 3: Loss 1.2219, Train Acc 62.58%, Test Acc 76.47%\n"
     ]
    },
    {
     "name": "stderr",
     "output_type": "stream",
     "text": [
      "Epoch 4/50: 100%|██████████| 391/391 [00:25<00:00, 15.44it/s]\n"
     ]
    },
    {
     "name": "stdout",
     "output_type": "stream",
     "text": [
      "Epoch 4: Loss 1.1421, Train Acc 65.37%, Test Acc 76.24%\n"
     ]
    },
    {
     "name": "stderr",
     "output_type": "stream",
     "text": [
      "Epoch 5/50: 100%|██████████| 391/391 [00:25<00:00, 15.48it/s]\n"
     ]
    },
    {
     "name": "stdout",
     "output_type": "stream",
     "text": [
      "Epoch 5: Loss 1.1498, Train Acc 65.11%, Test Acc 79.84%\n"
     ]
    },
    {
     "name": "stderr",
     "output_type": "stream",
     "text": [
      "Epoch 6/50: 100%|██████████| 391/391 [00:25<00:00, 15.46it/s]\n"
     ]
    },
    {
     "name": "stdout",
     "output_type": "stream",
     "text": [
      "Epoch 6: Loss 1.0755, Train Acc 67.87%, Test Acc 77.50%\n"
     ]
    },
    {
     "name": "stderr",
     "output_type": "stream",
     "text": [
      "Epoch 7/50: 100%|██████████| 391/391 [00:25<00:00, 15.48it/s]\n"
     ]
    },
    {
     "name": "stdout",
     "output_type": "stream",
     "text": [
      "Epoch 7: Loss 1.1000, Train Acc 67.19%, Test Acc 80.64%\n"
     ]
    },
    {
     "name": "stderr",
     "output_type": "stream",
     "text": [
      "Epoch 8/50: 100%|██████████| 391/391 [00:25<00:00, 15.43it/s]\n"
     ]
    },
    {
     "name": "stdout",
     "output_type": "stream",
     "text": [
      "Epoch 8: Loss 1.0573, Train Acc 68.38%, Test Acc 80.95%\n"
     ]
    },
    {
     "name": "stderr",
     "output_type": "stream",
     "text": [
      "Epoch 9/50: 100%|██████████| 391/391 [00:25<00:00, 15.52it/s]\n"
     ]
    },
    {
     "name": "stdout",
     "output_type": "stream",
     "text": [
      "Epoch 9: Loss 1.0367, Train Acc 68.66%, Test Acc 80.09%\n"
     ]
    },
    {
     "name": "stderr",
     "output_type": "stream",
     "text": [
      "Epoch 10/50: 100%|██████████| 391/391 [00:25<00:00, 15.51it/s]\n"
     ]
    },
    {
     "name": "stdout",
     "output_type": "stream",
     "text": [
      "Epoch 10: Loss 1.0216, Train Acc 69.81%, Test Acc 81.55%\n"
     ]
    },
    {
     "name": "stderr",
     "output_type": "stream",
     "text": [
      "Epoch 11/50: 100%|██████████| 391/391 [00:25<00:00, 15.52it/s]\n"
     ]
    },
    {
     "name": "stdout",
     "output_type": "stream",
     "text": [
      "Epoch 11: Loss 1.0019, Train Acc 70.01%, Test Acc 82.58%\n"
     ]
    },
    {
     "name": "stderr",
     "output_type": "stream",
     "text": [
      "Epoch 12/50: 100%|██████████| 391/391 [00:25<00:00, 15.49it/s]\n"
     ]
    },
    {
     "name": "stdout",
     "output_type": "stream",
     "text": [
      "Epoch 12: Loss 0.9962, Train Acc 70.42%, Test Acc 82.34%\n"
     ]
    },
    {
     "name": "stderr",
     "output_type": "stream",
     "text": [
      "Epoch 13/50: 100%|██████████| 391/391 [00:25<00:00, 15.53it/s]\n"
     ]
    },
    {
     "name": "stdout",
     "output_type": "stream",
     "text": [
      "Epoch 13: Loss 0.9392, Train Acc 71.98%, Test Acc 81.94%\n"
     ]
    },
    {
     "name": "stderr",
     "output_type": "stream",
     "text": [
      "Epoch 14/50: 100%|██████████| 391/391 [00:25<00:00, 15.55it/s]\n"
     ]
    },
    {
     "name": "stdout",
     "output_type": "stream",
     "text": [
      "Epoch 14: Loss 0.9636, Train Acc 71.50%, Test Acc 82.62%\n"
     ]
    },
    {
     "name": "stderr",
     "output_type": "stream",
     "text": [
      "Epoch 15/50: 100%|██████████| 391/391 [00:25<00:00, 15.54it/s]\n"
     ]
    },
    {
     "name": "stdout",
     "output_type": "stream",
     "text": [
      "Epoch 15: Loss 0.9637, Train Acc 71.35%, Test Acc 83.93%\n"
     ]
    },
    {
     "name": "stderr",
     "output_type": "stream",
     "text": [
      "Epoch 16/50: 100%|██████████| 391/391 [00:25<00:00, 15.57it/s]\n"
     ]
    },
    {
     "name": "stdout",
     "output_type": "stream",
     "text": [
      "Epoch 16: Loss 0.9709, Train Acc 71.30%, Test Acc 83.52%\n"
     ]
    },
    {
     "name": "stderr",
     "output_type": "stream",
     "text": [
      "Epoch 17/50: 100%|██████████| 391/391 [00:25<00:00, 15.51it/s]\n"
     ]
    },
    {
     "name": "stdout",
     "output_type": "stream",
     "text": [
      "Epoch 17: Loss 0.9476, Train Acc 71.73%, Test Acc 84.91%\n"
     ]
    },
    {
     "name": "stderr",
     "output_type": "stream",
     "text": [
      "Epoch 18/50: 100%|██████████| 391/391 [00:25<00:00, 15.53it/s]\n"
     ]
    },
    {
     "name": "stdout",
     "output_type": "stream",
     "text": [
      "Epoch 18: Loss 0.9108, Train Acc 73.19%, Test Acc 84.60%\n"
     ]
    },
    {
     "name": "stderr",
     "output_type": "stream",
     "text": [
      "Epoch 19/50: 100%|██████████| 391/391 [00:25<00:00, 15.51it/s]\n"
     ]
    },
    {
     "name": "stdout",
     "output_type": "stream",
     "text": [
      "Epoch 19: Loss 0.8978, Train Acc 73.72%, Test Acc 84.62%\n"
     ]
    },
    {
     "name": "stderr",
     "output_type": "stream",
     "text": [
      "Epoch 20/50: 100%|██████████| 391/391 [00:25<00:00, 15.44it/s]\n"
     ]
    },
    {
     "name": "stdout",
     "output_type": "stream",
     "text": [
      "Epoch 20: Loss 0.8954, Train Acc 74.08%, Test Acc 84.50%\n"
     ]
    },
    {
     "name": "stderr",
     "output_type": "stream",
     "text": [
      "Epoch 21/50: 100%|██████████| 391/391 [00:25<00:00, 15.54it/s]\n"
     ]
    },
    {
     "name": "stdout",
     "output_type": "stream",
     "text": [
      "Epoch 21: Loss 0.8934, Train Acc 73.81%, Test Acc 85.07%\n"
     ]
    },
    {
     "name": "stderr",
     "output_type": "stream",
     "text": [
      "Epoch 22/50: 100%|██████████| 391/391 [00:25<00:00, 15.55it/s]\n"
     ]
    },
    {
     "name": "stdout",
     "output_type": "stream",
     "text": [
      "Epoch 22: Loss 0.9767, Train Acc 70.95%, Test Acc 83.28%\n"
     ]
    },
    {
     "name": "stderr",
     "output_type": "stream",
     "text": [
      "Epoch 23/50: 100%|██████████| 391/391 [00:25<00:00, 15.48it/s]\n"
     ]
    },
    {
     "name": "stdout",
     "output_type": "stream",
     "text": [
      "Epoch 23: Loss 0.9138, Train Acc 73.09%, Test Acc 84.72%\n"
     ]
    },
    {
     "name": "stderr",
     "output_type": "stream",
     "text": [
      "Epoch 24/50: 100%|██████████| 391/391 [00:25<00:00, 15.53it/s]\n"
     ]
    },
    {
     "name": "stdout",
     "output_type": "stream",
     "text": [
      "Epoch 24: Loss 0.9055, Train Acc 73.13%, Test Acc 85.77%\n"
     ]
    },
    {
     "name": "stderr",
     "output_type": "stream",
     "text": [
      "Epoch 25/50: 100%|██████████| 391/391 [00:25<00:00, 15.55it/s]\n"
     ]
    },
    {
     "name": "stdout",
     "output_type": "stream",
     "text": [
      "Epoch 25: Loss 0.8673, Train Acc 74.89%, Test Acc 85.77%\n"
     ]
    },
    {
     "name": "stderr",
     "output_type": "stream",
     "text": [
      "Epoch 26/50: 100%|██████████| 391/391 [00:25<00:00, 15.51it/s]\n"
     ]
    },
    {
     "name": "stdout",
     "output_type": "stream",
     "text": [
      "Epoch 26: Loss 0.8717, Train Acc 74.53%, Test Acc 86.39%\n"
     ]
    },
    {
     "name": "stderr",
     "output_type": "stream",
     "text": [
      "Epoch 27/50: 100%|██████████| 391/391 [00:25<00:00, 15.50it/s]\n"
     ]
    },
    {
     "name": "stdout",
     "output_type": "stream",
     "text": [
      "Epoch 27: Loss 0.8519, Train Acc 75.43%, Test Acc 85.33%\n"
     ]
    },
    {
     "name": "stderr",
     "output_type": "stream",
     "text": [
      "Epoch 28/50: 100%|██████████| 391/391 [00:25<00:00, 15.48it/s]\n"
     ]
    },
    {
     "name": "stdout",
     "output_type": "stream",
     "text": [
      "Epoch 28: Loss 0.8079, Train Acc 76.76%, Test Acc 86.43%\n"
     ]
    },
    {
     "name": "stderr",
     "output_type": "stream",
     "text": [
      "Epoch 29/50: 100%|██████████| 391/391 [00:25<00:00, 15.54it/s]\n"
     ]
    },
    {
     "name": "stdout",
     "output_type": "stream",
     "text": [
      "Epoch 29: Loss 0.8237, Train Acc 76.77%, Test Acc 86.75%\n"
     ]
    },
    {
     "name": "stderr",
     "output_type": "stream",
     "text": [
      "Epoch 30/50: 100%|██████████| 391/391 [00:25<00:00, 15.47it/s]\n"
     ]
    },
    {
     "name": "stdout",
     "output_type": "stream",
     "text": [
      "Epoch 30: Loss 0.8434, Train Acc 75.71%, Test Acc 86.48%\n"
     ]
    },
    {
     "name": "stderr",
     "output_type": "stream",
     "text": [
      "Epoch 31/50: 100%|██████████| 391/391 [00:25<00:00, 15.57it/s]\n"
     ]
    },
    {
     "name": "stdout",
     "output_type": "stream",
     "text": [
      "Epoch 31: Loss 0.8601, Train Acc 75.32%, Test Acc 86.08%\n"
     ]
    },
    {
     "name": "stderr",
     "output_type": "stream",
     "text": [
      "Epoch 32/50: 100%|██████████| 391/391 [00:25<00:00, 15.50it/s]\n"
     ]
    },
    {
     "name": "stdout",
     "output_type": "stream",
     "text": [
      "Epoch 32: Loss 0.8167, Train Acc 77.06%, Test Acc 86.33%\n"
     ]
    },
    {
     "name": "stderr",
     "output_type": "stream",
     "text": [
      "Epoch 33/50: 100%|██████████| 391/391 [00:25<00:00, 15.56it/s]\n"
     ]
    },
    {
     "name": "stdout",
     "output_type": "stream",
     "text": [
      "Epoch 33: Loss 0.8230, Train Acc 76.51%, Test Acc 86.45%\n"
     ]
    },
    {
     "name": "stderr",
     "output_type": "stream",
     "text": [
      "Epoch 34/50: 100%|██████████| 391/391 [00:25<00:00, 15.55it/s]\n"
     ]
    },
    {
     "name": "stdout",
     "output_type": "stream",
     "text": [
      "Epoch 34: Loss 0.7813, Train Acc 78.34%, Test Acc 86.29%\n"
     ]
    },
    {
     "name": "stderr",
     "output_type": "stream",
     "text": [
      "Epoch 35/50: 100%|██████████| 391/391 [00:25<00:00, 15.52it/s]\n"
     ]
    },
    {
     "name": "stdout",
     "output_type": "stream",
     "text": [
      "Epoch 35: Loss 0.7887, Train Acc 77.43%, Test Acc 86.74%\n"
     ]
    },
    {
     "name": "stderr",
     "output_type": "stream",
     "text": [
      "Epoch 36/50: 100%|██████████| 391/391 [00:25<00:00, 15.49it/s]\n"
     ]
    },
    {
     "name": "stdout",
     "output_type": "stream",
     "text": [
      "Epoch 36: Loss 0.7406, Train Acc 79.00%, Test Acc 86.64%\n"
     ]
    },
    {
     "name": "stderr",
     "output_type": "stream",
     "text": [
      "Epoch 37/50: 100%|██████████| 391/391 [00:25<00:00, 15.57it/s]\n"
     ]
    },
    {
     "name": "stdout",
     "output_type": "stream",
     "text": [
      "Epoch 37: Loss 0.7941, Train Acc 77.72%, Test Acc 86.48%\n"
     ]
    },
    {
     "name": "stderr",
     "output_type": "stream",
     "text": [
      "Epoch 38/50: 100%|██████████| 391/391 [00:25<00:00, 15.57it/s]\n"
     ]
    },
    {
     "name": "stdout",
     "output_type": "stream",
     "text": [
      "Epoch 38: Loss 0.8060, Train Acc 77.36%, Test Acc 86.68%\n"
     ]
    },
    {
     "name": "stderr",
     "output_type": "stream",
     "text": [
      "Epoch 39/50: 100%|██████████| 391/391 [00:24<00:00, 15.65it/s]\n"
     ]
    },
    {
     "name": "stdout",
     "output_type": "stream",
     "text": [
      "Epoch 39: Loss 0.7369, Train Acc 79.43%, Test Acc 86.98%\n"
     ]
    },
    {
     "name": "stderr",
     "output_type": "stream",
     "text": [
      "Epoch 40/50: 100%|██████████| 391/391 [00:24<00:00, 15.73it/s]\n"
     ]
    },
    {
     "name": "stdout",
     "output_type": "stream",
     "text": [
      "Epoch 40: Loss 0.7339, Train Acc 79.41%, Test Acc 87.15%\n"
     ]
    },
    {
     "name": "stderr",
     "output_type": "stream",
     "text": [
      "Epoch 41/50: 100%|██████████| 391/391 [00:25<00:00, 15.59it/s]\n"
     ]
    },
    {
     "name": "stdout",
     "output_type": "stream",
     "text": [
      "Epoch 41: Loss 0.7543, Train Acc 78.71%, Test Acc 86.42%\n"
     ]
    },
    {
     "name": "stderr",
     "output_type": "stream",
     "text": [
      "Epoch 42/50: 100%|██████████| 391/391 [00:25<00:00, 15.57it/s]\n"
     ]
    },
    {
     "name": "stdout",
     "output_type": "stream",
     "text": [
      "Epoch 42: Loss 0.7150, Train Acc 80.00%, Test Acc 87.31%\n"
     ]
    },
    {
     "name": "stderr",
     "output_type": "stream",
     "text": [
      "Epoch 43/50: 100%|██████████| 391/391 [00:25<00:00, 15.51it/s]\n"
     ]
    },
    {
     "name": "stdout",
     "output_type": "stream",
     "text": [
      "Epoch 43: Loss 0.7408, Train Acc 79.51%, Test Acc 87.46%\n"
     ]
    },
    {
     "name": "stderr",
     "output_type": "stream",
     "text": [
      "Epoch 44/50: 100%|██████████| 391/391 [00:25<00:00, 15.51it/s]\n"
     ]
    },
    {
     "name": "stdout",
     "output_type": "stream",
     "text": [
      "Epoch 44: Loss 0.7629, Train Acc 78.81%, Test Acc 87.74%\n"
     ]
    },
    {
     "name": "stderr",
     "output_type": "stream",
     "text": [
      "Epoch 45/50: 100%|██████████| 391/391 [00:25<00:00, 15.57it/s]\n"
     ]
    },
    {
     "name": "stdout",
     "output_type": "stream",
     "text": [
      "Epoch 45: Loss 0.7543, Train Acc 79.02%, Test Acc 86.51%\n"
     ]
    },
    {
     "name": "stderr",
     "output_type": "stream",
     "text": [
      "Epoch 46/50: 100%|██████████| 391/391 [00:25<00:00, 15.55it/s]\n"
     ]
    },
    {
     "name": "stdout",
     "output_type": "stream",
     "text": [
      "Epoch 46: Loss 0.7221, Train Acc 80.11%, Test Acc 86.21%\n"
     ]
    },
    {
     "name": "stderr",
     "output_type": "stream",
     "text": [
      "Epoch 47/50: 100%|██████████| 391/391 [00:25<00:00, 15.61it/s]\n"
     ]
    },
    {
     "name": "stdout",
     "output_type": "stream",
     "text": [
      "Epoch 47: Loss 0.7248, Train Acc 79.76%, Test Acc 87.43%\n"
     ]
    },
    {
     "name": "stderr",
     "output_type": "stream",
     "text": [
      "Epoch 48/50: 100%|██████████| 391/391 [00:25<00:00, 15.62it/s]\n"
     ]
    },
    {
     "name": "stdout",
     "output_type": "stream",
     "text": [
      "Epoch 48: Loss 0.7167, Train Acc 79.82%, Test Acc 87.16%\n"
     ]
    },
    {
     "name": "stderr",
     "output_type": "stream",
     "text": [
      "Epoch 49/50: 100%|██████████| 391/391 [00:25<00:00, 15.53it/s]\n"
     ]
    },
    {
     "name": "stdout",
     "output_type": "stream",
     "text": [
      "Epoch 49: Loss 0.7627, Train Acc 78.78%, Test Acc 87.29%\n"
     ]
    },
    {
     "name": "stderr",
     "output_type": "stream",
     "text": [
      "Epoch 50/50: 100%|██████████| 391/391 [00:25<00:00, 15.56it/s]\n"
     ]
    },
    {
     "name": "stdout",
     "output_type": "stream",
     "text": [
      "Epoch 50: Loss 0.7278, Train Acc 79.51%, Test Acc 86.29%\n"
     ]
    }
   ],
   "source": [
    "# ### 7. Training Loop\n",
    "train_losses, train_accs, test_accs = [], [], []\n",
    "for epoch in range(num_epochs):\n",
    "    model.train()\n",
    "    running_loss, correct, total = 0.0, 0, 0\n",
    "    for inputs, targets in tqdm(train_loader, desc=f\"Epoch {epoch+1}/{num_epochs}\"):\n",
    "        inputs, targets = inputs.to(device), targets.to(device)\n",
    "      ## Apply MixUP\n",
    "        inputs, targets_a, targets_b, lam = mixup_data(inputs, targets, mixup_alpha)\n",
    "        optimizer.zero_grad()\n",
    "        outputs = model(inputs)\n",
    "        loss = lam * criterion(outputs, targets_a) + (1 - lam) * criterion(outputs, targets_b)\n",
    "        loss.backward()\n",
    "        optimizer.step()\n",
    "        running_loss += loss.item() * inputs.size(0)\n",
    "        _, predicted = torch.max(outputs, 1)\n",
    "        total += targets.size(0)\n",
    "        correct += (lam * predicted.eq(targets_a).sum().item() + (1 - lam) * predicted.eq(targets_b).sum().item())\n",
    "    epoch_loss = running_loss / len(train_dataset)\n",
    "    epoch_acc = 100. * correct / total\n",
    "    train_losses.append(epoch_loss); train_accs.append(epoch_acc)\n",
    "    scheduler.step()\n",
    "\n",
    "    # Validation\n",
    "    model.eval()\n",
    "    correct_test, total_test = 0, 0\n",
    "    with torch.no_grad():\n",
    "        for inputs, targets in test_loader:\n",
    "            inputs, targets = inputs.to(device), targets.to(device)\n",
    "            outputs = model(inputs)\n",
    "            _, predicted = torch.max(outputs, 1)\n",
    "            total_test += targets.size(0)\n",
    "            correct_test += predicted.eq(targets).sum().item()\n",
    "    test_acc = 100. * correct_test / total_test\n",
    "    test_accs.append(test_acc)\n",
    "\n",
    "    print(f\"Epoch {epoch+1}: Loss {epoch_loss:.4f}, Train Acc {epoch_acc:.2f}%, Test Acc {test_acc:.2f}%\")\n"
   ]
  },
  {
   "cell_type": "code",
   "execution_count": 10,
   "id": "cbac8085",
   "metadata": {
    "execution": {
     "iopub.execute_input": "2025-05-15T13:27:22.514409Z",
     "iopub.status.busy": "2025-05-15T13:27:22.514114Z",
     "iopub.status.idle": "2025-05-15T13:27:22.744836Z",
     "shell.execute_reply": "2025-05-15T13:27:22.744102Z"
    },
    "papermill": {
     "duration": 0.680575,
     "end_time": "2025-05-15T13:27:22.746047",
     "exception": false,
     "start_time": "2025-05-15T13:27:22.065472",
     "status": "completed"
    },
    "tags": []
   },
   "outputs": [
    {
     "data": {
      "image/png": "[encoded data removed]",
      "text/plain": [
       "<Figure size 640x480 with 1 Axes>"
      ]
     },
     "metadata": {},
     "output_type": "display_data"
    }
   ],
   "source": [
    "# ### 8. Plot Training Curves\n",
    "# plt.figure(); plt.plot(train_accs, label='Train Acc'); plt.plot(test_accs, label='Test Acc'); plt.xlabel('Epoch'); plt.ylabel('Accuracy (%)'); plt.legend(); plt.title('Training and Test Accuracy'); plt.show()\n",
    "plt.figure(); plt.plot(train_accs, label='Train Acc'); plt.plot(test_accs, label='Test Acc');\n",
    "plt.xlabel('Epoch'); plt.ylabel('Accuracy (%)'); plt.legend(); plt.title('Training and Test Accuracy'); plt.show()\n"
   ]
  },
  {
   "cell_type": "code",
   "execution_count": 11,
   "id": "76b2a340",
   "metadata": {
    "execution": {
     "iopub.execute_input": "2025-05-15T13:27:23.540938Z",
     "iopub.status.busy": "2025-05-15T13:27:23.540663Z",
     "iopub.status.idle": "2025-05-15T13:27:27.123623Z",
     "shell.execute_reply": "2025-05-15T13:27:27.122782Z"
    },
    "papermill": {
     "duration": 3.979517,
     "end_time": "2025-05-15T13:27:27.125335",
     "exception": false,
     "start_time": "2025-05-15T13:27:23.145818",
     "status": "completed"
    },
    "tags": []
   },
   "outputs": [
    {
     "data": {
      "image/png": "[encoded data removed]",
      "text/plain": [
       "<Figure size 1000x800 with 2 Axes>"
      ]
     },
     "metadata": {},
     "output_type": "display_data"
    }
   ],
   "source": [
    "# ### 9. Confusion Matrix\n",
    "from sklearn.metrics import confusion_matrix, classification_report\n",
    "import seaborn as sns\n",
    "model.eval()\n",
    "all_preds, all_targets = [], []\n",
    "with torch.no_grad():\n",
    "    for inputs, targets in test_loader:\n",
    "        inputs = inputs.to(device)\n",
    "        outputs = model(inputs)\n",
    "        _, preds = torch.max(outputs, 1)\n",
    "        all_preds.extend(preds.cpu().numpy()); all_targets.extend(targets.numpy())\n",
    "cm = confusion_matrix(all_targets, all_preds)\n",
    "plt.figure(figsize=(10,8)); sns.heatmap(cm, annot=True, fmt='d');\n",
    "plt.title('Confusion Matrix'); plt.ylabel('True'); plt.xlabel('Predicted'); plt.show()\n"
   ]
  },
  {
   "cell_type": "code",
   "execution_count": 12,
   "id": "7b906a17",
   "metadata": {
    "execution": {
     "iopub.execute_input": "2025-05-15T13:27:27.971983Z",
     "iopub.status.busy": "2025-05-15T13:27:27.971545Z",
     "iopub.status.idle": "2025-05-15T13:27:28.047476Z",
     "shell.execute_reply": "2025-05-15T13:27:28.046631Z"
    },
    "papermill": {
     "duration": 0.464299,
     "end_time": "2025-05-15T13:27:28.048641",
     "exception": false,
     "start_time": "2025-05-15T13:27:27.584342",
     "status": "completed"
    },
    "tags": []
   },
   "outputs": [
    {
     "name": "stdout",
     "output_type": "stream",
     "text": [
      "Model saved to /kaggle/working/cifar10_resnet18.pth\n"
     ]
    }
   ],
   "source": [
    "# ### 11. Save Model\n",
    "# os.makedirs('checkpoints', exist_ok=True)\n",
    "# torch.save(model.state_dict(), 'checkpoints/resnet18_cifar10_improved.pth')\n",
    "# Save the trained model\n",
    "torch.save(model.state_dict(), '/kaggle/working/cifar10_resnet18.pth')\n",
    "print('Model saved to /kaggle/working/cifar10_resnet18.pth')"
   ]
  },
  {
   "cell_type": "code",
   "execution_count": 13,
   "id": "6b4558ca",
   "metadata": {
    "execution": {
     "iopub.execute_input": "2025-05-15T13:27:28.885092Z",
     "iopub.status.busy": "2025-05-15T13:27:28.884809Z",
     "iopub.status.idle": "2025-05-15T13:27:29.031976Z",
     "shell.execute_reply": "2025-05-15T13:27:29.031001Z"
    },
    "papermill": {
     "duration": 0.589842,
     "end_time": "2025-05-15T13:27:29.033406",
     "exception": false,
     "start_time": "2025-05-15T13:27:28.443564",
     "status": "completed"
    },
    "tags": []
   },
   "outputs": [
    {
     "name": "stdout",
     "output_type": "stream",
     "text": [
      "ls: cannot access 'checkpoints': No such file or directory\r\n"
     ]
    }
   ],
   "source": [
    "!ls checkpoints"
   ]
  },
  {
   "cell_type": "code",
   "execution_count": 14,
   "id": "9cfafab1",
   "metadata": {
    "execution": {
     "iopub.execute_input": "2025-05-15T13:27:29.815341Z",
     "iopub.status.busy": "2025-05-15T13:27:29.814477Z",
     "iopub.status.idle": "2025-05-15T13:27:30.085336Z",
     "shell.execute_reply": "2025-05-15T13:27:30.084753Z"
    },
    "papermill": {
     "duration": 0.660549,
     "end_time": "2025-05-15T13:27:30.086634",
     "exception": false,
     "start_time": "2025-05-15T13:27:29.426085",
     "status": "completed"
    },
    "tags": []
   },
   "outputs": [
    {
     "name": "stderr",
     "output_type": "stream",
     "text": [
      "/usr/local/lib/python3.11/dist-packages/torchvision/models/_utils.py:208: UserWarning: The parameter 'pretrained' is deprecated since 0.13 and may be removed in the future, please use 'weights' instead.\n",
      "  warnings.warn(\n",
      "/usr/local/lib/python3.11/dist-packages/torchvision/models/_utils.py:223: UserWarning: Arguments other than a weight enum or `None` for 'weights' are deprecated since 0.13 and may be removed in the future. The current behavior is equivalent to passing `weights=None`.\n",
      "  warnings.warn(msg)\n"
     ]
    }
   ],
   "source": [
    "# ### 12. Inference Demo\n",
    "\n",
    "# Load the saved model (ensure same architecture)\n",
    "infer_model = models.resnet18(pretrained=False)\n",
    "infer_model.fc = nn.Linear(infer_model.fc.in_features, num_classes)\n",
    "infer_model.load_state_dict(torch.load('/kaggle/working/cifar10_resnet18.pth', map_location=device))\n",
    "infer_model = infer_model.to(device)\n",
    "infer_model.eval()\n",
    "\n",
    "# Function to preprocess and predict a single image\n",
    "def predict_image(image_path, transform=test_transforms, model=infer_model):\n",
    "    img = Image.open(image_path).convert('RGB')\n",
    "    tensor = transform(img).unsqueeze(0).to(device)\n",
    "    with torch.no_grad():\n",
    "        outputs = model(tensor)\n",
    "        probs = torch.softmax(outputs, dim=1)[0]\n",
    "        top_prob, top_cls = torch.max(probs, dim=0)\n",
    "    print(f\"Predicted class: {class_names[top_cls]} (prob={top_prob:.4f})\")\n",
    "    return class_names[top_cls], top_prob.item()"
   ]
  },
  {
   "cell_type": "code",
   "execution_count": 15,
   "id": "e1f2b39b",
   "metadata": {
    "execution": {
     "iopub.execute_input": "2025-05-15T13:27:30.923014Z",
     "iopub.status.busy": "2025-05-15T13:27:30.922718Z",
     "iopub.status.idle": "2025-05-15T13:27:30.926251Z",
     "shell.execute_reply": "2025-05-15T13:27:30.925484Z"
    },
    "papermill": {
     "duration": 0.397015,
     "end_time": "2025-05-15T13:27:30.927412",
     "exception": false,
     "start_time": "2025-05-15T13:27:30.530397",
     "status": "completed"
    },
    "tags": []
   },
   "outputs": [],
   "source": [
    "# # Example usage:\n",
    "# # replace '0002.jpg' with your image file path (ensure 32×32 or larger)\n",
    "# predict_image('/kaggle/working/0002.jpg')\n"
   ]
  },
  {
   "cell_type": "code",
   "execution_count": null,
   "id": "480de4bf",
   "metadata": {
    "papermill": {
     "duration": 0.41654,
     "end_time": "2025-05-15T13:27:31.793659",
     "exception": false,
     "start_time": "2025-05-15T13:27:31.377119",
     "status": "completed"
    },
    "tags": []
   },
   "outputs": [],
   "source": []
  }
 ],
 "metadata": {
  "kaggle": {
   "accelerator": "gpu",
   "dataSources": [],
   "dockerImageVersionId": 31041,
   "isGpuEnabled": true,
   "isInternetEnabled": true,
   "language": "python",
   "sourceType": "notebook"
  },
  "kernelspec": {
   "display_name": "Python 3",
   "language": "python",
   "name": "python3"
  },
  "language_info": {
   "codemirror_mode": {
    "name": "ipython",
    "version": 3
   },
   "file_extension": ".py",
   "mimetype": "text/x-python",
   "name": "python",
   "nbconvert_exporter": "python",
   "pygments_lexer": "ipython3",
   "version": "3.11.11"
  },
  "papermill": {
   "default_parameters": {},
   "duration": 1371.107688,
   "end_time": "2025-05-15T13:27:35.883744",
   "environment_variables": {},
   "exception": null,
   "input_path": "__notebook__.ipynb",
   "output_path": "__notebook__.ipynb",
   "parameters": {},
   "start_time": "2025-05-15T13:04:44.776056",
   "version": "2.6.0"
  }
 },
 "nbformat": 4,
 "nbformat_minor": 5
}
