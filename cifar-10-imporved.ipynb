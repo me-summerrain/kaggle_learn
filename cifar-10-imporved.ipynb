{
 "cells": [
  {
   "cell_type": "code",
   "execution_count": 1,
   "id": "e7699ee0",
   "metadata": {
    "_cell_guid": "b1076dfc-b9ad-4769-8c92-a6c4dae69d19",
    "_uuid": "8f2839f25d086af736a60e9eeb907d3b93b6e0e5",
    "execution": {
     "iopub.execute_input": "2025-05-15T10:39:59.687916Z",
     "iopub.status.busy": "2025-05-15T10:39:59.687197Z",
     "iopub.status.idle": "2025-05-15T10:40:01.099922Z",
     "shell.execute_reply": "2025-05-15T10:40:01.099341Z"
    },
    "papermill": {
     "duration": 1.418406,
     "end_time": "2025-05-15T10:40:01.101270",
     "exception": false,
     "start_time": "2025-05-15T10:39:59.682864",
     "status": "completed"
    },
    "tags": []
   },
   "outputs": [],
   "source": [
    "# This Python 3 environment comes with many helpful analytics libraries installed\n",
    "# It is defined by the kaggle/python Docker image: https://github.com/kaggle/docker-python\n",
    "# For example, here's several helpful packages to load\n",
    "\n",
    "import numpy as np # linear algebra\n",
    "import pandas as pd # data processing, CSV file I/O (e.g. pd.read_csv)\n",
    "\n",
    "# Input data files are available in the read-only \"../input/\" directory\n",
    "# For example, running this (by clicking run or pressing Shift+Enter) will list all files under the input directory\n",
    "\n",
    "import os\n",
    "for dirname, _, filenames in os.walk('/kaggle/input'):\n",
    "    for filename in filenames:\n",
    "        print(os.path.join(dirname, filename))\n",
    "\n",
    "# You can write up to 20GB to the current directory (/kaggle/working/) that gets preserved as output when you create a version using \"Save & Run All\" \n",
    "# You can also write temporary files to /kaggle/temp/, but they won't be saved outside of the current session"
   ]
  },
  {
   "cell_type": "code",
   "execution_count": 2,
   "id": "34ee8651",
   "metadata": {
    "execution": {
     "iopub.execute_input": "2025-05-15T10:40:01.108040Z",
     "iopub.status.busy": "2025-05-15T10:40:01.107686Z",
     "iopub.status.idle": "2025-05-15T10:40:10.055882Z",
     "shell.execute_reply": "2025-05-15T10:40:10.055333Z"
    },
    "papermill": {
     "duration": 8.952675,
     "end_time": "2025-05-15T10:40:10.057195",
     "exception": false,
     "start_time": "2025-05-15T10:40:01.104520",
     "status": "completed"
    },
    "tags": []
   },
   "outputs": [],
   "source": [
    "import os\n",
    "import numpy as np\n",
    "import torch\n",
    "import torch.nn as nn\n",
    "import torch.optim as optim\n",
    "from torch.optim.lr_scheduler import CosineAnnealingLR\n",
    "from torch.utils.data import DataLoader\n",
    "from torchvision import datasets, transforms, models\n",
    "from tqdm import tqdm\n",
    "import matplotlib.pyplot as plt\n",
    "from PIL import Image"
   ]
  },
  {
   "cell_type": "code",
   "execution_count": 3,
   "id": "92e2442f",
   "metadata": {
    "execution": {
     "iopub.execute_input": "2025-05-15T10:40:10.063783Z",
     "iopub.status.busy": "2025-05-15T10:40:10.063046Z",
     "iopub.status.idle": "2025-05-15T10:40:10.121236Z",
     "shell.execute_reply": "2025-05-15T10:40:10.120659Z"
    },
    "papermill": {
     "duration": 0.062441,
     "end_time": "2025-05-15T10:40:10.122363",
     "exception": false,
     "start_time": "2025-05-15T10:40:10.059922",
     "status": "completed"
    },
    "tags": []
   },
   "outputs": [
    {
     "name": "stdout",
     "output_type": "stream",
     "text": [
      "Using device: cuda\n"
     ]
    }
   ],
   "source": [
    "device = torch.device('cuda' if torch.cuda.is_available() else 'cpu')\n",
    "print(f\"Using device: {device}\")"
   ]
  },
  {
   "cell_type": "code",
   "execution_count": 4,
   "id": "b50c20e4",
   "metadata": {
    "execution": {
     "iopub.execute_input": "2025-05-15T10:40:10.128481Z",
     "iopub.status.busy": "2025-05-15T10:40:10.128248Z",
     "iopub.status.idle": "2025-05-15T10:40:10.131769Z",
     "shell.execute_reply": "2025-05-15T10:40:10.131230Z"
    },
    "papermill": {
     "duration": 0.007754,
     "end_time": "2025-05-15T10:40:10.132824",
     "exception": false,
     "start_time": "2025-05-15T10:40:10.125070",
     "status": "completed"
    },
    "tags": []
   },
   "outputs": [],
   "source": [
    "num_epochs = 50\n",
    "batch_size = 128\n",
    "learning_rate = 1e-3\n",
    "weight_decay = 1e-4\n",
    "mixup_alpha = 0.4\n",
    "num_classes = 10\n",
    "class_names = ['plane','car','bird','cat','deer','dog','frog','horse','ship','truck']"
   ]
  },
  {
   "cell_type": "code",
   "execution_count": 5,
   "id": "a441b84c",
   "metadata": {
    "execution": {
     "iopub.execute_input": "2025-05-15T10:40:10.138927Z",
     "iopub.status.busy": "2025-05-15T10:40:10.138526Z",
     "iopub.status.idle": "2025-05-15T10:40:16.469324Z",
     "shell.execute_reply": "2025-05-15T10:40:16.468070Z"
    },
    "papermill": {
     "duration": 6.335815,
     "end_time": "2025-05-15T10:40:16.471222",
     "exception": false,
     "start_time": "2025-05-15T10:40:10.135407",
     "status": "completed"
    },
    "tags": []
   },
   "outputs": [
    {
     "name": "stderr",
     "output_type": "stream",
     "text": [
      "100%|██████████| 170M/170M [00:03<00:00, 56.8MB/s]\n"
     ]
    }
   ],
   "source": [
    "# ### 3. Data Augmentation & Loaders\n",
    "mean = [0.4914, 0.4822, 0.4465]\n",
    "std = [0.2470, 0.2435, 0.2616]\n",
    "\n",
    "train_transforms = transforms.Compose([\n",
    "    transforms.RandomCrop(32, padding=4),\n",
    "    transforms.RandomHorizontalFlip(),\n",
    "    transforms.ToTensor(),\n",
    "    transforms.Normalize(mean, std),\n",
    "])\n",
    "\n",
    "test_transforms = transforms.Compose([\n",
    "    transforms.ToTensor(),\n",
    "    transforms.Normalize(mean, std),\n",
    "])\n",
    "\n",
    "train_dataset = datasets.CIFAR10(root='./data', train=True, download=True, transform=train_transforms)\n",
    "test_dataset = datasets.CIFAR10(root='./data', train=False, download=True, transform=test_transforms)\n",
    "\n",
    "train_loader = DataLoader(train_dataset, batch_size=batch_size, shuffle=True, num_workers=4)\n",
    "test_loader = DataLoader(test_dataset, batch_size=batch_size, shuffle=False, num_workers=4)\n"
   ]
  },
  {
   "cell_type": "code",
   "execution_count": 6,
   "id": "1bca5b9a",
   "metadata": {
    "execution": {
     "iopub.execute_input": "2025-05-15T10:40:16.485602Z",
     "iopub.status.busy": "2025-05-15T10:40:16.485269Z",
     "iopub.status.idle": "2025-05-15T10:40:16.491246Z",
     "shell.execute_reply": "2025-05-15T10:40:16.490400Z"
    },
    "papermill": {
     "duration": 0.013899,
     "end_time": "2025-05-15T10:40:16.492700",
     "exception": false,
     "start_time": "2025-05-15T10:40:16.478801",
     "status": "completed"
    },
    "tags": []
   },
   "outputs": [],
   "source": [
    "# ### 4. MixUp Function\n",
    "\n",
    "def mixup_data(x, y, alpha=1.0):\n",
    "    if alpha > 0:\n",
    "        lam = np.random.beta(alpha, alpha)\n",
    "    else:\n",
    "        lam = 1\n",
    "    batch_size = x.size()[0]\n",
    "    index = torch.randperm(batch_size).to(device)\n",
    "    mixed_x = lam * x + (1 - lam) * x[index, :]\n",
    "    y_a, y_b = y, y[index]\n",
    "    return mixed_x, y_a, y_b, lam"
   ]
  },
  {
   "cell_type": "code",
   "execution_count": 7,
   "id": "78aaecba",
   "metadata": {
    "execution": {
     "iopub.execute_input": "2025-05-15T10:40:16.508132Z",
     "iopub.status.busy": "2025-05-15T10:40:16.507899Z",
     "iopub.status.idle": "2025-05-15T10:40:17.213140Z",
     "shell.execute_reply": "2025-05-15T10:40:17.212579Z"
    },
    "papermill": {
     "duration": 0.715515,
     "end_time": "2025-05-15T10:40:17.214733",
     "exception": false,
     "start_time": "2025-05-15T10:40:16.499218",
     "status": "completed"
    },
    "tags": []
   },
   "outputs": [
    {
     "name": "stderr",
     "output_type": "stream",
     "text": [
      "/usr/local/lib/python3.11/dist-packages/torchvision/models/_utils.py:208: UserWarning: The parameter 'pretrained' is deprecated since 0.13 and may be removed in the future, please use 'weights' instead.\n",
      "  warnings.warn(\n",
      "/usr/local/lib/python3.11/dist-packages/torchvision/models/_utils.py:223: UserWarning: Arguments other than a weight enum or `None` for 'weights' are deprecated since 0.13 and may be removed in the future. The current behavior is equivalent to passing `weights=ResNet18_Weights.IMAGENET1K_V1`. You can also use `weights=ResNet18_Weights.DEFAULT` to get the most up-to-date weights.\n",
      "  warnings.warn(msg)\n",
      "Downloading: \"https://download.pytorch.org/models/resnet18-f37072fd.pth\" to /root/.cache/torch/hub/checkpoints/resnet18-f37072fd.pth\n",
      "100%|██████████| 44.7M/44.7M [00:00<00:00, 172MB/s]\n"
     ]
    }
   ],
   "source": [
    "# ### 5. Model: Pretrained ResNet-18\n",
    "model = models.resnet18(pretrained=True)\n",
    "model.fc = nn.Linear(model.fc.in_features, num_classes)\n",
    "model = model.to(device)"
   ]
  },
  {
   "cell_type": "code",
   "execution_count": 8,
   "id": "e3c78a44",
   "metadata": {
    "execution": {
     "iopub.execute_input": "2025-05-15T10:40:17.224390Z",
     "iopub.status.busy": "2025-05-15T10:40:17.223899Z",
     "iopub.status.idle": "2025-05-15T10:40:17.228032Z",
     "shell.execute_reply": "2025-05-15T10:40:17.227521Z"
    },
    "papermill": {
     "duration": 0.009835,
     "end_time": "2025-05-15T10:40:17.229098",
     "exception": false,
     "start_time": "2025-05-15T10:40:17.219263",
     "status": "completed"
    },
    "tags": []
   },
   "outputs": [],
   "source": [
    "# ### 6. Loss, Optimizer, Scheduler\n",
    "criterion = nn.CrossEntropyLoss()\n",
    "optimizer = optim.AdamW(model.parameters(), lr=learning_rate, weight_decay=weight_decay)\n",
    "scheduler = CosineAnnealingLR(optimizer, T_max=num_epochs)"
   ]
  },
  {
   "cell_type": "code",
   "execution_count": 9,
   "id": "d70754eb",
   "metadata": {
    "execution": {
     "iopub.execute_input": "2025-05-15T10:40:17.237674Z",
     "iopub.status.busy": "2025-05-15T10:40:17.237500Z",
     "iopub.status.idle": "2025-05-15T11:02:16.334725Z",
     "shell.execute_reply": "2025-05-15T11:02:16.333833Z"
    },
    "papermill": {
     "duration": 1319.102824,
     "end_time": "2025-05-15T11:02:16.335922",
     "exception": false,
     "start_time": "2025-05-15T10:40:17.233098",
     "status": "completed"
    },
    "tags": []
   },
   "outputs": [
    {
     "name": "stderr",
     "output_type": "stream",
     "text": [
      "Epoch 1/50: 100%|██████████| 391/391 [00:26<00:00, 14.91it/s]\n"
     ]
    },
    {
     "name": "stdout",
     "output_type": "stream",
     "text": [
      "Epoch 1: Loss 1.4861, Train Acc 52.15%, Test Acc 66.13%\n"
     ]
    },
    {
     "name": "stderr",
     "output_type": "stream",
     "text": [
      "Epoch 2/50: 100%|██████████| 391/391 [00:25<00:00, 15.63it/s]\n"
     ]
    },
    {
     "name": "stdout",
     "output_type": "stream",
     "text": [
      "Epoch 2: Loss 1.3154, Train Acc 59.47%, Test Acc 73.39%\n"
     ]
    },
    {
     "name": "stderr",
     "output_type": "stream",
     "text": [
      "Epoch 3/50: 100%|██████████| 391/391 [00:25<00:00, 15.60it/s]\n"
     ]
    },
    {
     "name": "stdout",
     "output_type": "stream",
     "text": [
      "Epoch 3: Loss 1.2154, Train Acc 63.25%, Test Acc 73.31%\n"
     ]
    },
    {
     "name": "stderr",
     "output_type": "stream",
     "text": [
      "Epoch 4/50: 100%|██████████| 391/391 [00:25<00:00, 15.63it/s]\n"
     ]
    },
    {
     "name": "stdout",
     "output_type": "stream",
     "text": [
      "Epoch 4: Loss 1.1747, Train Acc 64.59%, Test Acc 77.50%\n"
     ]
    },
    {
     "name": "stderr",
     "output_type": "stream",
     "text": [
      "Epoch 5/50: 100%|██████████| 391/391 [00:24<00:00, 15.64it/s]\n"
     ]
    },
    {
     "name": "stdout",
     "output_type": "stream",
     "text": [
      "Epoch 5: Loss 1.1876, Train Acc 63.56%, Test Acc 76.69%\n"
     ]
    },
    {
     "name": "stderr",
     "output_type": "stream",
     "text": [
      "Epoch 6/50: 100%|██████████| 391/391 [00:25<00:00, 15.57it/s]\n"
     ]
    },
    {
     "name": "stdout",
     "output_type": "stream",
     "text": [
      "Epoch 6: Loss 1.1405, Train Acc 64.90%, Test Acc 79.01%\n"
     ]
    },
    {
     "name": "stderr",
     "output_type": "stream",
     "text": [
      "Epoch 7/50: 100%|██████████| 391/391 [00:25<00:00, 15.61it/s]\n"
     ]
    },
    {
     "name": "stdout",
     "output_type": "stream",
     "text": [
      "Epoch 7: Loss 1.1253, Train Acc 65.44%, Test Acc 78.22%\n"
     ]
    },
    {
     "name": "stderr",
     "output_type": "stream",
     "text": [
      "Epoch 8/50: 100%|██████████| 391/391 [00:25<00:00, 15.60it/s]\n"
     ]
    },
    {
     "name": "stdout",
     "output_type": "stream",
     "text": [
      "Epoch 8: Loss 1.0593, Train Acc 67.68%, Test Acc 81.29%\n"
     ]
    },
    {
     "name": "stderr",
     "output_type": "stream",
     "text": [
      "Epoch 9/50: 100%|██████████| 391/391 [00:25<00:00, 15.63it/s]\n"
     ]
    },
    {
     "name": "stdout",
     "output_type": "stream",
     "text": [
      "Epoch 9: Loss 1.0919, Train Acc 67.05%, Test Acc 81.38%\n"
     ]
    },
    {
     "name": "stderr",
     "output_type": "stream",
     "text": [
      "Epoch 10/50: 100%|██████████| 391/391 [00:25<00:00, 15.60it/s]\n"
     ]
    },
    {
     "name": "stdout",
     "output_type": "stream",
     "text": [
      "Epoch 10: Loss 1.0193, Train Acc 69.07%, Test Acc 81.42%\n"
     ]
    },
    {
     "name": "stderr",
     "output_type": "stream",
     "text": [
      "Epoch 11/50: 100%|██████████| 391/391 [00:24<00:00, 15.68it/s]\n"
     ]
    },
    {
     "name": "stdout",
     "output_type": "stream",
     "text": [
      "Epoch 11: Loss 1.0205, Train Acc 69.45%, Test Acc 82.28%\n"
     ]
    },
    {
     "name": "stderr",
     "output_type": "stream",
     "text": [
      "Epoch 12/50: 100%|██████████| 391/391 [00:25<00:00, 15.57it/s]\n"
     ]
    },
    {
     "name": "stdout",
     "output_type": "stream",
     "text": [
      "Epoch 12: Loss 0.9878, Train Acc 70.34%, Test Acc 81.94%\n"
     ]
    },
    {
     "name": "stderr",
     "output_type": "stream",
     "text": [
      "Epoch 13/50: 100%|██████████| 391/391 [00:25<00:00, 15.62it/s]\n"
     ]
    },
    {
     "name": "stdout",
     "output_type": "stream",
     "text": [
      "Epoch 13: Loss 1.0295, Train Acc 69.13%, Test Acc 82.71%\n"
     ]
    },
    {
     "name": "stderr",
     "output_type": "stream",
     "text": [
      "Epoch 14/50: 100%|██████████| 391/391 [00:25<00:00, 15.61it/s]\n"
     ]
    },
    {
     "name": "stdout",
     "output_type": "stream",
     "text": [
      "Epoch 14: Loss 0.9806, Train Acc 70.99%, Test Acc 82.30%\n"
     ]
    },
    {
     "name": "stderr",
     "output_type": "stream",
     "text": [
      "Epoch 15/50: 100%|██████████| 391/391 [00:24<00:00, 15.69it/s]\n"
     ]
    },
    {
     "name": "stdout",
     "output_type": "stream",
     "text": [
      "Epoch 15: Loss 0.9359, Train Acc 72.26%, Test Acc 82.90%\n"
     ]
    },
    {
     "name": "stderr",
     "output_type": "stream",
     "text": [
      "Epoch 16/50: 100%|██████████| 391/391 [00:25<00:00, 15.60it/s]\n"
     ]
    },
    {
     "name": "stdout",
     "output_type": "stream",
     "text": [
      "Epoch 16: Loss 0.9669, Train Acc 71.10%, Test Acc 83.98%\n"
     ]
    },
    {
     "name": "stderr",
     "output_type": "stream",
     "text": [
      "Epoch 17/50: 100%|██████████| 391/391 [00:25<00:00, 15.61it/s]\n"
     ]
    },
    {
     "name": "stdout",
     "output_type": "stream",
     "text": [
      "Epoch 17: Loss 0.9950, Train Acc 70.33%, Test Acc 82.60%\n"
     ]
    },
    {
     "name": "stderr",
     "output_type": "stream",
     "text": [
      "Epoch 18/50: 100%|██████████| 391/391 [00:25<00:00, 15.62it/s]\n"
     ]
    },
    {
     "name": "stdout",
     "output_type": "stream",
     "text": [
      "Epoch 18: Loss 1.0059, Train Acc 69.22%, Test Acc 81.69%\n"
     ]
    },
    {
     "name": "stderr",
     "output_type": "stream",
     "text": [
      "Epoch 19/50: 100%|██████████| 391/391 [00:25<00:00, 15.61it/s]\n"
     ]
    },
    {
     "name": "stdout",
     "output_type": "stream",
     "text": [
      "Epoch 19: Loss 0.9996, Train Acc 70.27%, Test Acc 82.84%\n"
     ]
    },
    {
     "name": "stderr",
     "output_type": "stream",
     "text": [
      "Epoch 20/50: 100%|██████████| 391/391 [00:25<00:00, 15.58it/s]\n"
     ]
    },
    {
     "name": "stdout",
     "output_type": "stream",
     "text": [
      "Epoch 20: Loss 0.9647, Train Acc 71.44%, Test Acc 83.48%\n"
     ]
    },
    {
     "name": "stderr",
     "output_type": "stream",
     "text": [
      "Epoch 21/50: 100%|██████████| 391/391 [00:25<00:00, 15.64it/s]\n"
     ]
    },
    {
     "name": "stdout",
     "output_type": "stream",
     "text": [
      "Epoch 21: Loss 0.9466, Train Acc 72.38%, Test Acc 84.47%\n"
     ]
    },
    {
     "name": "stderr",
     "output_type": "stream",
     "text": [
      "Epoch 22/50: 100%|██████████| 391/391 [00:25<00:00, 15.58it/s]\n"
     ]
    },
    {
     "name": "stdout",
     "output_type": "stream",
     "text": [
      "Epoch 22: Loss 0.9351, Train Acc 72.44%, Test Acc 84.85%\n"
     ]
    },
    {
     "name": "stderr",
     "output_type": "stream",
     "text": [
      "Epoch 23/50: 100%|██████████| 391/391 [00:25<00:00, 15.61it/s]\n"
     ]
    },
    {
     "name": "stdout",
     "output_type": "stream",
     "text": [
      "Epoch 23: Loss 0.8990, Train Acc 73.63%, Test Acc 85.12%\n"
     ]
    },
    {
     "name": "stderr",
     "output_type": "stream",
     "text": [
      "Epoch 24/50: 100%|██████████| 391/391 [00:24<00:00, 15.65it/s]\n"
     ]
    },
    {
     "name": "stdout",
     "output_type": "stream",
     "text": [
      "Epoch 24: Loss 0.9274, Train Acc 72.83%, Test Acc 85.37%\n"
     ]
    },
    {
     "name": "stderr",
     "output_type": "stream",
     "text": [
      "Epoch 25/50: 100%|██████████| 391/391 [00:25<00:00, 15.57it/s]\n"
     ]
    },
    {
     "name": "stdout",
     "output_type": "stream",
     "text": [
      "Epoch 25: Loss 0.9114, Train Acc 73.33%, Test Acc 84.98%\n"
     ]
    },
    {
     "name": "stderr",
     "output_type": "stream",
     "text": [
      "Epoch 26/50: 100%|██████████| 391/391 [00:25<00:00, 15.59it/s]\n"
     ]
    },
    {
     "name": "stdout",
     "output_type": "stream",
     "text": [
      "Epoch 26: Loss 0.8928, Train Acc 74.38%, Test Acc 85.00%\n"
     ]
    },
    {
     "name": "stderr",
     "output_type": "stream",
     "text": [
      "Epoch 27/50: 100%|██████████| 391/391 [00:25<00:00, 15.63it/s]\n"
     ]
    },
    {
     "name": "stdout",
     "output_type": "stream",
     "text": [
      "Epoch 27: Loss 0.8956, Train Acc 74.28%, Test Acc 85.65%\n"
     ]
    },
    {
     "name": "stderr",
     "output_type": "stream",
     "text": [
      "Epoch 28/50: 100%|██████████| 391/391 [00:25<00:00, 15.63it/s]\n"
     ]
    },
    {
     "name": "stdout",
     "output_type": "stream",
     "text": [
      "Epoch 28: Loss 0.8136, Train Acc 76.50%, Test Acc 85.31%\n"
     ]
    },
    {
     "name": "stderr",
     "output_type": "stream",
     "text": [
      "Epoch 29/50: 100%|██████████| 391/391 [00:25<00:00, 15.61it/s]\n"
     ]
    },
    {
     "name": "stdout",
     "output_type": "stream",
     "text": [
      "Epoch 29: Loss 0.8607, Train Acc 74.97%, Test Acc 85.37%\n"
     ]
    },
    {
     "name": "stderr",
     "output_type": "stream",
     "text": [
      "Epoch 30/50: 100%|██████████| 391/391 [00:25<00:00, 15.60it/s]\n"
     ]
    },
    {
     "name": "stdout",
     "output_type": "stream",
     "text": [
      "Epoch 30: Loss 0.8539, Train Acc 75.54%, Test Acc 85.79%\n"
     ]
    },
    {
     "name": "stderr",
     "output_type": "stream",
     "text": [
      "Epoch 31/50: 100%|██████████| 391/391 [00:24<00:00, 15.65it/s]\n"
     ]
    },
    {
     "name": "stdout",
     "output_type": "stream",
     "text": [
      "Epoch 31: Loss 0.8667, Train Acc 75.02%, Test Acc 86.28%\n"
     ]
    },
    {
     "name": "stderr",
     "output_type": "stream",
     "text": [
      "Epoch 32/50: 100%|██████████| 391/391 [00:25<00:00, 15.57it/s]\n"
     ]
    },
    {
     "name": "stdout",
     "output_type": "stream",
     "text": [
      "Epoch 32: Loss 0.8095, Train Acc 76.89%, Test Acc 85.83%\n"
     ]
    },
    {
     "name": "stderr",
     "output_type": "stream",
     "text": [
      "Epoch 33/50: 100%|██████████| 391/391 [00:25<00:00, 15.61it/s]\n"
     ]
    },
    {
     "name": "stdout",
     "output_type": "stream",
     "text": [
      "Epoch 33: Loss 0.8628, Train Acc 75.29%, Test Acc 85.77%\n"
     ]
    },
    {
     "name": "stderr",
     "output_type": "stream",
     "text": [
      "Epoch 34/50: 100%|██████████| 391/391 [00:24<00:00, 15.68it/s]\n"
     ]
    },
    {
     "name": "stdout",
     "output_type": "stream",
     "text": [
      "Epoch 34: Loss 0.8531, Train Acc 75.19%, Test Acc 85.77%\n"
     ]
    },
    {
     "name": "stderr",
     "output_type": "stream",
     "text": [
      "Epoch 35/50: 100%|██████████| 391/391 [00:25<00:00, 15.59it/s]\n"
     ]
    },
    {
     "name": "stdout",
     "output_type": "stream",
     "text": [
      "Epoch 35: Loss 0.8716, Train Acc 74.74%, Test Acc 86.07%\n"
     ]
    },
    {
     "name": "stderr",
     "output_type": "stream",
     "text": [
      "Epoch 36/50: 100%|██████████| 391/391 [00:25<00:00, 15.63it/s]\n"
     ]
    },
    {
     "name": "stdout",
     "output_type": "stream",
     "text": [
      "Epoch 36: Loss 0.8211, Train Acc 76.70%, Test Acc 87.14%\n"
     ]
    },
    {
     "name": "stderr",
     "output_type": "stream",
     "text": [
      "Epoch 37/50: 100%|██████████| 391/391 [00:25<00:00, 15.61it/s]\n"
     ]
    },
    {
     "name": "stdout",
     "output_type": "stream",
     "text": [
      "Epoch 37: Loss 0.8356, Train Acc 75.90%, Test Acc 86.04%\n"
     ]
    },
    {
     "name": "stderr",
     "output_type": "stream",
     "text": [
      "Epoch 38/50: 100%|██████████| 391/391 [00:25<00:00, 15.62it/s]\n"
     ]
    },
    {
     "name": "stdout",
     "output_type": "stream",
     "text": [
      "Epoch 38: Loss 0.8017, Train Acc 77.56%, Test Acc 86.69%\n"
     ]
    },
    {
     "name": "stderr",
     "output_type": "stream",
     "text": [
      "Epoch 39/50: 100%|██████████| 391/391 [00:25<00:00, 15.59it/s]\n"
     ]
    },
    {
     "name": "stdout",
     "output_type": "stream",
     "text": [
      "Epoch 39: Loss 0.7804, Train Acc 78.05%, Test Acc 87.03%\n"
     ]
    },
    {
     "name": "stderr",
     "output_type": "stream",
     "text": [
      "Epoch 40/50: 100%|██████████| 391/391 [00:24<00:00, 15.66it/s]\n"
     ]
    },
    {
     "name": "stdout",
     "output_type": "stream",
     "text": [
      "Epoch 40: Loss 0.7882, Train Acc 77.43%, Test Acc 86.09%\n"
     ]
    },
    {
     "name": "stderr",
     "output_type": "stream",
     "text": [
      "Epoch 41/50: 100%|██████████| 391/391 [00:25<00:00, 15.63it/s]\n"
     ]
    },
    {
     "name": "stdout",
     "output_type": "stream",
     "text": [
      "Epoch 41: Loss 0.7587, Train Acc 78.71%, Test Acc 86.99%\n"
     ]
    },
    {
     "name": "stderr",
     "output_type": "stream",
     "text": [
      "Epoch 42/50: 100%|██████████| 391/391 [00:25<00:00, 15.60it/s]\n"
     ]
    },
    {
     "name": "stdout",
     "output_type": "stream",
     "text": [
      "Epoch 42: Loss 0.7404, Train Acc 79.25%, Test Acc 87.75%\n"
     ]
    },
    {
     "name": "stderr",
     "output_type": "stream",
     "text": [
      "Epoch 43/50: 100%|██████████| 391/391 [00:25<00:00, 15.64it/s]\n"
     ]
    },
    {
     "name": "stdout",
     "output_type": "stream",
     "text": [
      "Epoch 43: Loss 0.8125, Train Acc 76.93%, Test Acc 86.89%\n"
     ]
    },
    {
     "name": "stderr",
     "output_type": "stream",
     "text": [
      "Epoch 44/50: 100%|██████████| 391/391 [00:25<00:00, 15.62it/s]\n"
     ]
    },
    {
     "name": "stdout",
     "output_type": "stream",
     "text": [
      "Epoch 44: Loss 0.7687, Train Acc 78.32%, Test Acc 87.00%\n"
     ]
    },
    {
     "name": "stderr",
     "output_type": "stream",
     "text": [
      "Epoch 45/50: 100%|██████████| 391/391 [00:24<00:00, 15.64it/s]\n"
     ]
    },
    {
     "name": "stdout",
     "output_type": "stream",
     "text": [
      "Epoch 45: Loss 0.7397, Train Acc 79.25%, Test Acc 86.89%\n"
     ]
    },
    {
     "name": "stderr",
     "output_type": "stream",
     "text": [
      "Epoch 46/50: 100%|██████████| 391/391 [00:25<00:00, 15.57it/s]\n"
     ]
    },
    {
     "name": "stdout",
     "output_type": "stream",
     "text": [
      "Epoch 46: Loss 0.7552, Train Acc 78.88%, Test Acc 87.19%\n"
     ]
    },
    {
     "name": "stderr",
     "output_type": "stream",
     "text": [
      "Epoch 47/50: 100%|██████████| 391/391 [00:25<00:00, 15.36it/s]\n"
     ]
    },
    {
     "name": "stdout",
     "output_type": "stream",
     "text": [
      "Epoch 47: Loss 0.7701, Train Acc 78.32%, Test Acc 87.04%\n"
     ]
    },
    {
     "name": "stderr",
     "output_type": "stream",
     "text": [
      "Epoch 48/50: 100%|██████████| 391/391 [00:24<00:00, 15.68it/s]\n"
     ]
    },
    {
     "name": "stdout",
     "output_type": "stream",
     "text": [
      "Epoch 48: Loss 0.7871, Train Acc 77.86%, Test Acc 87.07%\n"
     ]
    },
    {
     "name": "stderr",
     "output_type": "stream",
     "text": [
      "Epoch 49/50: 100%|██████████| 391/391 [00:25<00:00, 15.61it/s]\n"
     ]
    },
    {
     "name": "stdout",
     "output_type": "stream",
     "text": [
      "Epoch 49: Loss 0.8017, Train Acc 77.15%, Test Acc 87.27%\n"
     ]
    },
    {
     "name": "stderr",
     "output_type": "stream",
     "text": [
      "Epoch 50/50: 100%|██████████| 391/391 [00:24<00:00, 15.64it/s]\n"
     ]
    },
    {
     "name": "stdout",
     "output_type": "stream",
     "text": [
      "Epoch 50: Loss 0.8030, Train Acc 77.46%, Test Acc 86.72%\n"
     ]
    }
   ],
   "source": [
    "# ### 7. Training Loop\n",
    "train_losses, train_accs, test_accs = [], [], []\n",
    "for epoch in range(num_epochs):\n",
    "    model.train()\n",
    "    running_loss, correct, total = 0.0, 0, 0\n",
    "    for inputs, targets in tqdm(train_loader, desc=f\"Epoch {epoch+1}/{num_epochs}\"):\n",
    "        inputs, targets = inputs.to(device), targets.to(device)\n",
    "      ## Apply MixUP\n",
    "        inputs, targets_a, targets_b, lam = mixup_data(inputs, targets, mixup_alpha)\n",
    "        optimizer.zero_grad()\n",
    "        outputs = model(inputs)\n",
    "        loss = lam * criterion(outputs, targets_a) + (1 - lam) * criterion(outputs, targets_b)\n",
    "        loss.backward()\n",
    "        optimizer.step()\n",
    "        running_loss += loss.item() * inputs.size(0)\n",
    "        _, predicted = torch.max(outputs, 1)\n",
    "        total += targets.size(0)\n",
    "        correct += (lam * predicted.eq(targets_a).sum().item() + (1 - lam) * predicted.eq(targets_b).sum().item())\n",
    "    epoch_loss = running_loss / len(train_dataset)\n",
    "    epoch_acc = 100. * correct / total\n",
    "    train_losses.append(epoch_loss); train_accs.append(epoch_acc)\n",
    "    scheduler.step()\n",
    "\n",
    "    # Validation\n",
    "    model.eval()\n",
    "    correct_test, total_test = 0, 0\n",
    "    with torch.no_grad():\n",
    "        for inputs, targets in test_loader:\n",
    "            inputs, targets = inputs.to(device), targets.to(device)\n",
    "            outputs = model(inputs)\n",
    "            _, predicted = torch.max(outputs, 1)\n",
    "            total_test += targets.size(0)\n",
    "            correct_test += predicted.eq(targets).sum().item()\n",
    "    test_acc = 100. * correct_test / total_test\n",
    "    test_accs.append(test_acc)\n",
    "\n",
    "    print(f\"Epoch {epoch+1}: Loss {epoch_loss:.4f}, Train Acc {epoch_acc:.2f}%, Test Acc {test_acc:.2f}%\")\n"
   ]
  },
  {
   "cell_type": "code",
   "execution_count": 10,
   "id": "4a8dbd41",
   "metadata": {
    "execution": {
     "iopub.execute_input": "2025-05-15T11:02:17.159925Z",
     "iopub.status.busy": "2025-05-15T11:02:17.159624Z",
     "iopub.status.idle": "2025-05-15T11:02:17.449968Z",
     "shell.execute_reply": "2025-05-15T11:02:17.449279Z"
    },
    "papermill": {
     "duration": 0.729166,
     "end_time": "2025-05-15T11:02:17.451020",
     "exception": false,
     "start_time": "2025-05-15T11:02:16.721854",
     "status": "completed"
    },
    "tags": []
   },
   "outputs": [
    {
     "data": {
      "image/png": "[encoded data removed]",
      "text/plain": [
       "<Figure size 640x480 with 1 Axes>"
      ]
     },
     "metadata": {},
     "output_type": "display_data"
    }
   ],
   "source": [
    "# ### 8. Plot Training Curves\n",
    "# plt.figure(); plt.plot(train_accs, label='Train Acc'); plt.plot(test_accs, label='Test Acc'); plt.xlabel('Epoch'); plt.ylabel('Accuracy (%)'); plt.legend(); plt.title('Training and Test Accuracy'); plt.show()\n",
    "plt.figure(); plt.plot(train_accs, label='Train Acc'); plt.plot(test_accs, label='Test Acc');\n",
    "plt.xlabel('Epoch'); plt.ylabel('Accuracy (%)'); plt.legend(); plt.title('Training and Test Accuracy'); plt.show()\n"
   ]
  },
  {
   "cell_type": "code",
   "execution_count": 11,
   "id": "1d50bb4f",
   "metadata": {
    "execution": {
     "iopub.execute_input": "2025-05-15T11:02:18.221319Z",
     "iopub.status.busy": "2025-05-15T11:02:18.221030Z",
     "iopub.status.idle": "2025-05-15T11:02:21.728058Z",
     "shell.execute_reply": "2025-05-15T11:02:21.727169Z"
    },
    "papermill": {
     "duration": 3.89187,
     "end_time": "2025-05-15T11:02:21.729433",
     "exception": false,
     "start_time": "2025-05-15T11:02:17.837563",
     "status": "completed"
    },
    "tags": []
   },
   "outputs": [
    {
     "data": {
      "image/png": "[encoded data removed]",
      "text/plain": [
       "<Figure size 1000x800 with 2 Axes>"
      ]
     },
     "metadata": {},
     "output_type": "display_data"
    }
   ],
   "source": [
    "# ### 9. Confusion Matrix\n",
    "from sklearn.metrics import confusion_matrix, classification_report\n",
    "import seaborn as sns\n",
    "model.eval()\n",
    "all_preds, all_targets = [], []\n",
    "with torch.no_grad():\n",
    "    for inputs, targets in test_loader:\n",
    "        inputs = inputs.to(device)\n",
    "        outputs = model(inputs)\n",
    "        _, preds = torch.max(outputs, 1)\n",
    "        all_preds.extend(preds.cpu().numpy()); all_targets.extend(targets.numpy())\n",
    "cm = confusion_matrix(all_targets, all_preds)\n",
    "plt.figure(figsize=(10,8)); sns.heatmap(cm, annot=True, fmt='d');\n",
    "plt.title('Confusion Matrix'); plt.ylabel('True'); plt.xlabel('Predicted'); plt.show()\n"
   ]
  },
  {
   "cell_type": "code",
   "execution_count": 12,
   "id": "d39720db",
   "metadata": {
    "execution": {
     "iopub.execute_input": "2025-05-15T11:02:22.552753Z",
     "iopub.status.busy": "2025-05-15T11:02:22.551933Z",
     "iopub.status.idle": "2025-05-15T11:02:22.638451Z",
     "shell.execute_reply": "2025-05-15T11:02:22.637626Z"
    },
    "papermill": {
     "duration": 0.466575,
     "end_time": "2025-05-15T11:02:22.639708",
     "exception": false,
     "start_time": "2025-05-15T11:02:22.173133",
     "status": "completed"
    },
    "tags": []
   },
   "outputs": [
    {
     "name": "stdout",
     "output_type": "stream",
     "text": [
      "Model saved to checkpoints/resnet18_cifar10_improved.pth\n"
     ]
    }
   ],
   "source": [
    "# ### 11. Save Model\n",
    "os.makedirs('checkpoints', exist_ok=True)\n",
    "torch.save(model.state_dict(), 'checkpoints/resnet18_cifar10_improved.pth')\n",
    "print('Model saved to checkpoints/resnet18_cifar10_improved.pth')"
   ]
  },
  {
   "cell_type": "code",
   "execution_count": 13,
   "id": "9c65cecf",
   "metadata": {
    "execution": {
     "iopub.execute_input": "2025-05-15T11:02:23.464142Z",
     "iopub.status.busy": "2025-05-15T11:02:23.463665Z",
     "iopub.status.idle": "2025-05-15T11:02:23.610363Z",
     "shell.execute_reply": "2025-05-15T11:02:23.609419Z"
    },
    "papermill": {
     "duration": 0.585071,
     "end_time": "2025-05-15T11:02:23.611615",
     "exception": false,
     "start_time": "2025-05-15T11:02:23.026544",
     "status": "completed"
    },
    "tags": []
   },
   "outputs": [
    {
     "name": "stdout",
     "output_type": "stream",
     "text": [
      "resnet18_cifar10_improved.pth\r\n"
     ]
    }
   ],
   "source": [
    "!ls checkpoints"
   ]
  },
  {
   "cell_type": "code",
   "execution_count": 14,
   "id": "5dfa1768",
   "metadata": {
    "execution": {
     "iopub.execute_input": "2025-05-15T11:02:24.381446Z",
     "iopub.status.busy": "2025-05-15T11:02:24.380833Z",
     "iopub.status.idle": "2025-05-15T11:02:24.645216Z",
     "shell.execute_reply": "2025-05-15T11:02:24.644439Z"
    },
    "papermill": {
     "duration": 0.65082,
     "end_time": "2025-05-15T11:02:24.646658",
     "exception": false,
     "start_time": "2025-05-15T11:02:23.995838",
     "status": "completed"
    },
    "tags": []
   },
   "outputs": [
    {
     "name": "stderr",
     "output_type": "stream",
     "text": [
      "/usr/local/lib/python3.11/dist-packages/torchvision/models/_utils.py:208: UserWarning: The parameter 'pretrained' is deprecated since 0.13 and may be removed in the future, please use 'weights' instead.\n",
      "  warnings.warn(\n",
      "/usr/local/lib/python3.11/dist-packages/torchvision/models/_utils.py:223: UserWarning: Arguments other than a weight enum or `None` for 'weights' are deprecated since 0.13 and may be removed in the future. The current behavior is equivalent to passing `weights=None`.\n",
      "  warnings.warn(msg)\n"
     ]
    }
   ],
   "source": [
    "# ### 12. Inference Demo\n",
    "\n",
    "# Load the saved model (ensure same architecture)\n",
    "infer_model = models.resnet18(pretrained=False)\n",
    "infer_model.fc = nn.Linear(infer_model.fc.in_features, num_classes)\n",
    "infer_model.load_state_dict(torch.load('checkpoints/resnet18_cifar10_improved.pth', map_location=device))\n",
    "infer_model = infer_model.to(device)\n",
    "infer_model.eval()\n",
    "\n",
    "# Function to preprocess and predict a single image\n",
    "def predict_image(image_path, transform=test_transforms, model=infer_model):\n",
    "    img = Image.open(image_path).convert('RGB')\n",
    "    tensor = transform(img).unsqueeze(0).to(device)\n",
    "    with torch.no_grad():\n",
    "        outputs = model(tensor)\n",
    "        probs = torch.softmax(outputs, dim=1)[0]\n",
    "        top_prob, top_cls = torch.max(probs, dim=0)\n",
    "    print(f\"Predicted class: {class_names[top_cls]} (prob={top_prob:.4f})\")\n",
    "    return class_names[top_cls], top_prob.item()"
   ]
  },
  {
   "cell_type": "code",
   "execution_count": 15,
   "id": "909eaa6b",
   "metadata": {
    "execution": {
     "iopub.execute_input": "2025-05-15T11:02:25.476462Z",
     "iopub.status.busy": "2025-05-15T11:02:25.475881Z",
     "iopub.status.idle": "2025-05-15T11:02:25.479434Z",
     "shell.execute_reply": "2025-05-15T11:02:25.478705Z"
    },
    "papermill": {
     "duration": 0.392489,
     "end_time": "2025-05-15T11:02:25.480612",
     "exception": false,
     "start_time": "2025-05-15T11:02:25.088123",
     "status": "completed"
    },
    "tags": []
   },
   "outputs": [],
   "source": [
    "# # Example usage:\n",
    "# # replace '0002.jpg' with your image file path (ensure 32×32 or larger)\n",
    "# predict_image('/kaggle/working/0002.jpg')\n"
   ]
  }
 ],
 "metadata": {
  "kaggle": {
   "accelerator": "gpu",
   "dataSources": [],
   "dockerImageVersionId": 31041,
   "isGpuEnabled": true,
   "isInternetEnabled": true,
   "language": "python",
   "sourceType": "notebook"
  },
  "kernelspec": {
   "display_name": "Python 3",
   "language": "python",
   "name": "python3"
  },
  "language_info": {
   "codemirror_mode": {
    "name": "ipython",
    "version": 3
   },
   "file_extension": ".py",
   "mimetype": "text/x-python",
   "name": "python",
   "nbconvert_exporter": "python",
   "pygments_lexer": "ipython3",
   "version": "3.11.11"
  },
  "papermill": {
   "default_parameters": {},
   "duration": 1352.953904,
   "end_time": "2025-05-15T11:02:28.577332",
   "environment_variables": {},
   "exception": null,
   "input_path": "__notebook__.ipynb",
   "output_path": "__notebook__.ipynb",
   "parameters": {},
   "start_time": "2025-05-15T10:39:55.623428",
   "version": "2.6.0"
  }
 },
 "nbformat": 4,
 "nbformat_minor": 5
}
