{
 "cells": [
  {
   "cell_type": "code",
   "execution_count": 1,
   "id": "73c028e8",
   "metadata": {
    "_cell_guid": "b1076dfc-b9ad-4769-8c92-a6c4dae69d19",
    "_uuid": "8f2839f25d086af736a60e9eeb907d3b93b6e0e5",
    "execution": {
     "iopub.execute_input": "2025-05-16T17:10:53.106660Z",
     "iopub.status.busy": "2025-05-16T17:10:53.105982Z",
     "iopub.status.idle": "2025-05-16T17:10:53.806988Z",
     "shell.execute_reply": "2025-05-16T17:10:53.806080Z"
    },
    "papermill": {
     "duration": 0.710356,
     "end_time": "2025-05-16T17:10:53.809166",
     "exception": false,
     "start_time": "2025-05-16T17:10:53.098810",
     "status": "completed"
    },
    "tags": []
   },
   "outputs": [],
   "source": [
    "# This Python 3 environment comes with many helpful analytics libraries installed\n",
    "# It is defined by the kaggle/python Docker image: https://github.com/kaggle/docker-python\n",
    "# For example, here's several helpful packages to load\n",
    "\n",
    "import numpy as np # linear algebra\n",
    "import pandas as pd # data processing, CSV file I/O (e.g. pd.read_csv)\n",
    "\n",
    "# Input data files are available in the read-only \"../input/\" directory\n",
    "# For example, running this (by clicking run or pressing Shift+Enter) will list all files under the input directory\n",
    "\n",
    "import os\n",
    "# for dirname, _, filenames in os.walk('/kaggle/input'):\n",
    "#     for filename in filenames:\n",
    "#         print(os.path.join(dirname, filename))\n",
    "\n",
    "# You can write up to 20GB to the current directory (/kaggle/working/) that gets preserved as output when you create a version using \"Save & Run All\" \n",
    "# You can also write temporary files to /kaggle/temp/, but they won't be saved outside of the current session"
   ]
  },
  {
   "cell_type": "code",
   "execution_count": 2,
   "id": "476b97e1",
   "metadata": {
    "execution": {
     "iopub.execute_input": "2025-05-16T17:10:53.821667Z",
     "iopub.status.busy": "2025-05-16T17:10:53.820921Z",
     "iopub.status.idle": "2025-05-16T17:10:53.824360Z",
     "shell.execute_reply": "2025-05-16T17:10:53.823749Z"
    },
    "papermill": {
     "duration": 0.010983,
     "end_time": "2025-05-16T17:10:53.825828",
     "exception": false,
     "start_time": "2025-05-16T17:10:53.814845",
     "status": "completed"
    },
    "tags": []
   },
   "outputs": [],
   "source": [
    "# /kaggle/input/im2latex100k/im2latex_formulas.norm.csv\n",
    "# /kaggle/input/im2latex100k/im2latex_train.csv\n",
    "# /kaggle/input/im2latex100k/im2latex_validate.csv\n",
    "# /kaggle/input/im2latex100k/im2latex_test.csv\n",
    "# /kaggle/input/im2latex100k/formula_images_processed/formula_images_processed/"
   ]
  },
  {
   "cell_type": "code",
   "execution_count": 3,
   "id": "ab10f9c9",
   "metadata": {
    "execution": {
     "iopub.execute_input": "2025-05-16T17:10:53.837604Z",
     "iopub.status.busy": "2025-05-16T17:10:53.837354Z",
     "iopub.status.idle": "2025-05-16T17:11:11.814243Z",
     "shell.execute_reply": "2025-05-16T17:11:11.813210Z"
    },
    "papermill": {
     "duration": 17.985182,
     "end_time": "2025-05-16T17:11:11.816415",
     "exception": false,
     "start_time": "2025-05-16T17:10:53.831233",
     "status": "completed"
    },
    "tags": []
   },
   "outputs": [
    {
     "name": "stdout",
     "output_type": "stream",
     "text": [
      "Collecting latex\r\n",
      "  Downloading latex-0.7.0.tar.gz (6.5 kB)\r\n",
      "  Preparing metadata (setup.py) ... \u001b[?25l-\b \bdone\r\n",
      "\u001b[?25hCollecting tempdir (from latex)\r\n",
      "  Downloading tempdir-0.7.1.tar.gz (5.9 kB)\r\n",
      "  Preparing metadata (setup.py) ... \u001b[?25l-\b \bdone\r\n",
      "\u001b[?25hCollecting data (from latex)\r\n",
      "  Downloading data-0.4.tar.gz (7.0 kB)\r\n",
      "  Preparing metadata (setup.py) ... \u001b[?25l-\b \bdone\r\n",
      "\u001b[?25hRequirement already satisfied: future in /opt/conda/lib/python3.10/site-packages (from latex) (1.0.0)\r\n",
      "Collecting shutilwhich (from latex)\r\n",
      "  Downloading shutilwhich-1.1.0.tar.gz (2.3 kB)\r\n",
      "  Preparing metadata (setup.py) ... \u001b[?25l-\b \bdone\r\n",
      "\u001b[?25hRequirement already satisfied: six in /opt/conda/lib/python3.10/site-packages (from data->latex) (1.16.0)\r\n",
      "Requirement already satisfied: decorator in /opt/conda/lib/python3.10/site-packages (from data->latex) (5.1.1)\r\n",
      "Collecting funcsigs (from data->latex)\r\n",
      "  Downloading funcsigs-1.0.2-py2.py3-none-any.whl.metadata (14 kB)\r\n",
      "Downloading funcsigs-1.0.2-py2.py3-none-any.whl (17 kB)\r\n",
      "Building wheels for collected packages: latex, data, shutilwhich, tempdir\r\n",
      "  Building wheel for latex (setup.py) ... \u001b[?25l-\b \b\\\b \bdone\r\n",
      "\u001b[?25h  Created wheel for latex: filename=latex-0.7.0-py3-none-any.whl size=7588 sha256=533a4b4168ad7a34eb9fd226d378b17f108162c27a6b3eb81b8a1c3522ebefc9\r\n",
      "  Stored in directory: /root/.cache/pip/wheels/7e/02/25/c00dfc203e8ba53dfc2e4e97d40e537263d6e03606681f3872\r\n",
      "  Building wheel for data (setup.py) ... \u001b[?25l-\b \b\\\b \bdone\r\n",
      "\u001b[?25h  Created wheel for data: filename=data-0.4-py3-none-any.whl size=7227 sha256=8e71d826c7e4ff9baf72bed4fe7cbf565f9ed50f3dbc5e9df2532f0480e060e1\r\n",
      "  Stored in directory: /root/.cache/pip/wheels/d0/e8/fa/e253c256048ea58d99a8abb5e751abb6a838af6f12887b5418\r\n",
      "  Building wheel for shutilwhich (setup.py) ... \u001b[?25l-\b \b\\\b \bdone\r\n",
      "\u001b[?25h  Created wheel for shutilwhich: filename=shutilwhich-1.1.0-py3-none-any.whl size=2763 sha256=4afc72dee1b16e1577b18585a922570a38e3e14f04332bab8f44271b22aaf507\r\n",
      "  Stored in directory: /root/.cache/pip/wheels/75/1f/1c/0ecab7ceabad0b8e018891505911e82a6f358a0291e7681bae\r\n",
      "  Building wheel for tempdir (setup.py) ... \u001b[?25l-\b \b\\\b \bdone\r\n",
      "\u001b[?25h  Created wheel for tempdir: filename=tempdir-0.7.1-py3-none-any.whl size=2196 sha256=55a740a03a4e083aad653469be5b372f3fef7364c74bf593038d8a5d3d20bb54\r\n",
      "  Stored in directory: /root/.cache/pip/wheels/c6/9a/9d/44903aa5aac6c6bc5f0c331ed86214bbedce17e8556d002f1a\r\n",
      "Successfully built latex data shutilwhich tempdir\r\n",
      "Installing collected packages: tempdir, shutilwhich, funcsigs, data, latex\r\n",
      "Successfully installed data-0.4 funcsigs-1.0.2 latex-0.7.0 shutilwhich-1.1.0 tempdir-0.7.1\r\n"
     ]
    }
   ],
   "source": [
    "!pip install latex"
   ]
  },
  {
   "cell_type": "code",
   "execution_count": 4,
   "id": "b508b2b6",
   "metadata": {
    "execution": {
     "iopub.execute_input": "2025-05-16T17:11:11.831661Z",
     "iopub.status.busy": "2025-05-16T17:11:11.831035Z",
     "iopub.status.idle": "2025-05-16T17:11:18.231637Z",
     "shell.execute_reply": "2025-05-16T17:11:18.230926Z"
    },
    "papermill": {
     "duration": 6.410385,
     "end_time": "2025-05-16T17:11:18.233652",
     "exception": false,
     "start_time": "2025-05-16T17:11:11.823267",
     "status": "completed"
    },
    "tags": []
   },
   "outputs": [],
   "source": [
    "# !pip install latex\n",
    "import torch.nn as nn\n",
    "import torchvision.models as models\n",
    "from torch.utils.data import Dataset, DataLoader\n",
    "import torchvision.transforms as transforms\n",
    "import torch\n",
    "from torchvision.io import read_image\n",
    "import latex\n",
    "import re\n",
    "from PIL import Image\n",
    "import matplotlib.pyplot as plt\n",
    "from torch.nn.utils.rnn import pad_sequence\n",
    "import torch.optim as optim \n",
    "from tqdm import tqdm"
   ]
  },
  {
   "cell_type": "code",
   "execution_count": 5,
   "id": "32fa5f1c",
   "metadata": {
    "execution": {
     "iopub.execute_input": "2025-05-16T17:11:18.249460Z",
     "iopub.status.busy": "2025-05-16T17:11:18.249110Z",
     "iopub.status.idle": "2025-05-16T17:11:18.994472Z",
     "shell.execute_reply": "2025-05-16T17:11:18.993488Z"
    },
    "papermill": {
     "duration": 0.755528,
     "end_time": "2025-05-16T17:11:18.996243",
     "exception": false,
     "start_time": "2025-05-16T17:11:18.240715",
     "status": "completed"
    },
    "tags": []
   },
   "outputs": [
    {
     "name": "stdout",
     "output_type": "stream",
     "text": [
      "                                                 formula           image\n",
      "0      \\alpha _ { 1 } ^ { r } \\gamma _ { 1 } + \\dots ...  7944775fc9.png\n",
      "1      \\eta = - \\frac { 1 } { 2 } \\operatorname { l n...  78228211ca.png\n",
      "2      P _ { ( 2 ) } ^ { - } = \\int \\beta d \\beta d ^...  15b9034ba8.png\n",
      "3      \\Gamma ( z + 1 ) = \\int _ { 0 } ^ { \\infty } \\...  6968dfca15.png\n",
      "4      \\frac { d } { d s } { \\bf C } _ { i } = \\frac ...  6cead0df53.png\n",
      "...                                                  ...             ...\n",
      "10350  \\nu = \\frac { - 2 \\beta _ { 1 } } { \\beta _ { ...  3caf8fcb25.png\n",
      "10351  3 \\delta _ { l , \\, j \\pm b _ { r } } = \\sum _...  6ed277c793.png\n",
      "10352  \\beta ( \\lambda _ { j } ) = ( 2 + \\epsilon ) \\...  49721f860b.png\n",
      "10353  E = v \\sqrt { Q _ { M } ^ { 2 } + Q _ { E } ^ ...  4cbdf71aaf.png\n",
      "10354  X _ { 1 \\, n - 1 } = \\frac { q } { q - q ^ { -...  643602bf3b.png\n",
      "\n",
      "[10284 rows x 2 columns]\n",
      "/kaggle/input/im2latex100k/formula_images_processed/formula_images_processed/7944775fc9.png\n"
     ]
    }
   ],
   "source": [
    "df = pd.read_csv('/kaggle/input/im2latex100k/im2latex_test.csv').dropna()\n",
    "a = df['formula'].unique().sum()\n",
    "# a\n",
    "print(df.dropna())\n",
    "# print(a[0])\n",
    "print(os.path.join('/kaggle/input/im2latex100k/formula_images_processed/formula_images_processed/',df['image'][0]))"
   ]
  },
  {
   "cell_type": "code",
   "execution_count": 6,
   "id": "3faa6314",
   "metadata": {
    "execution": {
     "iopub.execute_input": "2025-05-16T17:11:19.010539Z",
     "iopub.status.busy": "2025-05-16T17:11:19.010271Z",
     "iopub.status.idle": "2025-05-16T17:11:19.017962Z",
     "shell.execute_reply": "2025-05-16T17:11:19.017217Z"
    },
    "papermill": {
     "duration": 0.016473,
     "end_time": "2025-05-16T17:11:19.019417",
     "exception": false,
     "start_time": "2025-05-16T17:11:19.002944",
     "status": "completed"
    },
    "tags": []
   },
   "outputs": [],
   "source": [
    "class Vocabulary():\n",
    "    def __init__(self, freq_th=1):\n",
    "        self.itos = {0:\"[pad]\",1:\"[sos]\",2:\"[eos]\",3:\"[unk]\"}\n",
    "        self.stoi = {\"[pad]\":0,\"[sos]\":1,\"[eos]\":2,\"[unk]\":3}\n",
    "        self.freq_th = freq_th\n",
    "        \n",
    "        #regex\n",
    "        self.TOKENIZE_PATTERN = re.compile(\n",
    "            \"(\\\\\\\\[a-zA-Z]+)|\" + '((\\\\\\\\)*[$-/:-?{-~!\"^_`\\[\\]])|' + \"(\\w)|\" + \"(\\\\\\\\)\"\n",
    "        )\n",
    "        \n",
    "    def __len__(self):\n",
    "        return len(self.itos)\n",
    "    \n",
    "    @staticmethod\n",
    "    def tokenizer(TOKENIZE_PATTERN, formula: str):\n",
    "        tokens = re.finditer(TOKENIZE_PATTERN, formula)\n",
    "        tokens = list(map(lambda x: x.group(0), tokens))\n",
    "        tokens = [x for x in tokens if x is not None and x != \"\"]\n",
    "        return tokens\n",
    "    \n",
    "    def build_vocabulary(self,sentence_list):\n",
    "        frequency = {}\n",
    "        idx = 4\n",
    "        for sentence in sentence_list:\n",
    "            for word in self.tokenizer(self.TOKENIZE_PATTERN,sentence):\n",
    "                if word not in frequency:\n",
    "                    frequency[word] = 1\n",
    "                else:\n",
    "                    frequency[word] += 1\n",
    "                \n",
    "                if (word not in self.stoi and frequency[word] > self.freq_th-1):\n",
    "                    self.itos[idx] = word\n",
    "                    self.stoi[word] = idx\n",
    "                    idx += 1\n",
    "                    \n",
    "    def numericalize(self,sentence):\n",
    "        tokenized_text = self.tokenizer(self.TOKENIZE_PATTERN,sentence)\n",
    "        return [self.stoi[word] if word in self.stoi else self.stoi[\"[unk]\"] for word in tokenized_text ]\n",
    "                    "
   ]
  },
  {
   "cell_type": "code",
   "execution_count": 7,
   "id": "996a7303",
   "metadata": {
    "execution": {
     "iopub.execute_input": "2025-05-16T17:11:19.033213Z",
     "iopub.status.busy": "2025-05-16T17:11:19.032985Z",
     "iopub.status.idle": "2025-05-16T17:11:19.565853Z",
     "shell.execute_reply": "2025-05-16T17:11:19.565099Z"
    },
    "papermill": {
     "duration": 0.541921,
     "end_time": "2025-05-16T17:11:19.567763",
     "exception": false,
     "start_time": "2025-05-16T17:11:19.025842",
     "status": "completed"
    },
    "tags": []
   },
   "outputs": [
    {
     "data": {
      "text/plain": [
       "405"
      ]
     },
     "execution_count": 7,
     "metadata": {},
     "output_type": "execute_result"
    }
   ],
   "source": [
    "v = Vocabulary(1)\n",
    "v.build_vocabulary(df['formula'].tolist())\n",
    "len(v.itos)"
   ]
  },
  {
   "cell_type": "code",
   "execution_count": 8,
   "id": "6ff220dc",
   "metadata": {
    "execution": {
     "iopub.execute_input": "2025-05-16T17:11:19.583041Z",
     "iopub.status.busy": "2025-05-16T17:11:19.582425Z",
     "iopub.status.idle": "2025-05-16T17:11:19.586635Z",
     "shell.execute_reply": "2025-05-16T17:11:19.585894Z"
    },
    "papermill": {
     "duration": 0.01347,
     "end_time": "2025-05-16T17:11:19.588216",
     "exception": false,
     "start_time": "2025-05-16T17:11:19.574746",
     "status": "completed"
    },
    "tags": []
   },
   "outputs": [],
   "source": [
    "# Preprocess input image\n",
    "transform = transforms.Compose([\n",
    "    transforms.Resize((224, 448)),\n",
    "    transforms.ToTensor(),\n",
    "    transforms.Normalize(mean=[0.485, 0.456, 0.406], std=[0.229, 0.224, 0.225]),\n",
    "])"
   ]
  },
  {
   "cell_type": "code",
   "execution_count": 9,
   "id": "2c4753e3",
   "metadata": {
    "execution": {
     "iopub.execute_input": "2025-05-16T17:11:19.602918Z",
     "iopub.status.busy": "2025-05-16T17:11:19.602687Z",
     "iopub.status.idle": "2025-05-16T17:11:19.608608Z",
     "shell.execute_reply": "2025-05-16T17:11:19.607999Z"
    },
    "papermill": {
     "duration": 0.015223,
     "end_time": "2025-05-16T17:11:19.610332",
     "exception": false,
     "start_time": "2025-05-16T17:11:19.595109",
     "status": "completed"
    },
    "tags": []
   },
   "outputs": [],
   "source": [
    "class MyDataset(Dataset):\n",
    "    def __init__(self, csv_file, root_dir, transform=None, freq_threshold=1):\n",
    "        #initialise paramaters\n",
    "        self.root_dir = root_dir\n",
    "        self.transform = transform\n",
    "        \n",
    "        # get label and image df\n",
    "        self.df = pd.read_csv(csv_file).dropna()\n",
    "        \n",
    "        # initialize vocabulary and build vocab\n",
    "        self.vocab = Vocabulary(freq_threshold)\n",
    "        self.vocab.build_vocabulary(self.df['formula'].tolist())\n",
    "    \n",
    "    def __len__(self):\n",
    "        return len(self.df)\n",
    "    \n",
    "    def __getitem__(self,index):\n",
    "        # getting image ready\n",
    "        img_path = os.path.join(self.root_dir,self.df['image'][index])\n",
    "        image = Image.open(img_path).convert(\"RGB\")\n",
    "        if self.transform:\n",
    "            image = self.transform(image)\n",
    "            \n",
    "        # getting caption ready\n",
    "        latex = self.df['formula'][index]\n",
    "        num_tex = [self.vocab.stoi[\"[sos]\"]]\n",
    "        num_tex += self.vocab.numericalize(latex)\n",
    "        num_tex.append(self.vocab.stoi[\"[eos]\"])\n",
    "        \n",
    "        # return the pair\n",
    "        return image,torch.tensor(num_tex)"
   ]
  },
  {
   "cell_type": "code",
   "execution_count": 10,
   "id": "6360f01e",
   "metadata": {
    "execution": {
     "iopub.execute_input": "2025-05-16T17:11:19.624858Z",
     "iopub.status.busy": "2025-05-16T17:11:19.624318Z",
     "iopub.status.idle": "2025-05-16T17:11:23.295858Z",
     "shell.execute_reply": "2025-05-16T17:11:23.295143Z"
    },
    "papermill": {
     "duration": 3.680872,
     "end_time": "2025-05-16T17:11:23.297841",
     "exception": false,
     "start_time": "2025-05-16T17:11:19.616969",
     "status": "completed"
    },
    "tags": []
   },
   "outputs": [],
   "source": [
    "train_dataset = MyDataset('/kaggle/input/im2latex100k/im2latex_train.csv','/kaggle/input/im2latex100k/formula_images_processed/formula_images_processed/',transform)"
   ]
  },
  {
   "cell_type": "code",
   "execution_count": 11,
   "id": "96d588a2",
   "metadata": {
    "execution": {
     "iopub.execute_input": "2025-05-16T17:11:23.313920Z",
     "iopub.status.busy": "2025-05-16T17:11:23.313411Z",
     "iopub.status.idle": "2025-05-16T17:11:23.687520Z",
     "shell.execute_reply": "2025-05-16T17:11:23.686681Z"
    },
    "papermill": {
     "duration": 0.384047,
     "end_time": "2025-05-16T17:11:23.689213",
     "exception": false,
     "start_time": "2025-05-16T17:11:23.305166",
     "status": "completed"
    },
    "tags": []
   },
   "outputs": [
    {
     "name": "stdout",
     "output_type": "stream",
     "text": [
      "tensor([  1,  72,  33,  22,  30,  93,  25,   7,  26,  13, 150,   6,   7, 112,\n",
      "         13,  47,  36,  93,  25,   7,  26,  13, 150,   6,   7, 112,  13,  54,\n",
      "          2])\n",
      "[sos] V = - g D ^ { 2 } \\Gamma _ { 4 } + H D ^ { 2 } \\Gamma _ { 4 } . [eos] \n",
      "\\sum _ { \\alpha \\in \\Phi } ( \\alpha \\beta ) ^ { 2 } = \\sum _ { \\alpha \\in P } ( \\alpha \\beta ) ^ { 2 } = g \\beta ^ { 2 } .\n"
     ]
    },
    {
     "data": {
      "text/plain": [
       "<matplotlib.image.AxesImage at 0x7fca86a92aa0>"
      ]
     },
     "execution_count": 11,
     "metadata": {},
     "output_type": "execute_result"
    },
    {
     "data": {
      "image/png": "[encoded data removed]",
      "text/plain": [
       "<Figure size 640x480 with 1 Axes>"
      ]
     },
     "metadata": {},
     "output_type": "display_data"
    }
   ],
   "source": [
    "n = 674\n",
    "b,a = train_dataset.__getitem__(n)\n",
    "print(a)\n",
    "s = \"\"\n",
    "c=0\n",
    "for i in a:\n",
    "    c+=1\n",
    "    s+=train_dataset.vocab.itos[i.item()]\n",
    "    s+=\" \"\n",
    "print(s)\n",
    "print(df['formula'][n])\n",
    "plt.imshow(b.permute(1,2,0))\n",
    "# plt.imshow(Image.open(os.path.join('/kaggle/input/im2latex100k/formula_images_processed/formula_images_processed/',df['image'][0])))"
   ]
  },
  {
   "cell_type": "code",
   "execution_count": 12,
   "id": "dd984345",
   "metadata": {
    "execution": {
     "iopub.execute_input": "2025-05-16T17:11:23.704800Z",
     "iopub.status.busy": "2025-05-16T17:11:23.704493Z",
     "iopub.status.idle": "2025-05-16T17:11:23.934429Z",
     "shell.execute_reply": "2025-05-16T17:11:23.933603Z"
    },
    "papermill": {
     "duration": 0.239714,
     "end_time": "2025-05-16T17:11:23.936237",
     "exception": false,
     "start_time": "2025-05-16T17:11:23.696523",
     "status": "completed"
    },
    "tags": []
   },
   "outputs": [
    {
     "data": {
      "text/plain": [
       "<matplotlib.image.AxesImage at 0x7fca869e43d0>"
      ]
     },
     "execution_count": 12,
     "metadata": {},
     "output_type": "execute_result"
    },
    {
     "data": {
      "image/png": "[encoded data removed]",
      "text/plain": [
       "<Figure size 640x480 with 1 Axes>"
      ]
     },
     "metadata": {},
     "output_type": "display_data"
    }
   ],
   "source": [
    "plt.imshow(Image.open(os.path.join('/kaggle/input/im2latex100k/formula_images_processed/formula_images_processed/',df['image'][n])).convert('RGB'))"
   ]
  },
  {
   "cell_type": "code",
   "execution_count": 13,
   "id": "f3d7086e",
   "metadata": {
    "execution": {
     "iopub.execute_input": "2025-05-16T17:11:23.955826Z",
     "iopub.status.busy": "2025-05-16T17:11:23.955113Z",
     "iopub.status.idle": "2025-05-16T17:11:23.960274Z",
     "shell.execute_reply": "2025-05-16T17:11:23.959457Z"
    },
    "papermill": {
     "duration": 0.016524,
     "end_time": "2025-05-16T17:11:23.961982",
     "exception": false,
     "start_time": "2025-05-16T17:11:23.945458",
     "status": "completed"
    },
    "tags": []
   },
   "outputs": [],
   "source": [
    "class MyCollate:\n",
    "    def __init__(self,pad_idx):\n",
    "        self.pad_idx = pad_idx\n",
    "        \n",
    "    def __call__(self, batch):\n",
    "#         print(batch[0].shape)\n",
    "        imgs = [item[0].unsqueeze(0) for item in batch]\n",
    "        imgs = torch.cat(imgs,dim=0)\n",
    "        targets = [item[1] for item in batch]\n",
    "        targets = pad_sequence(targets, batch_first = True, padding_value = self.pad_idx)\n",
    "        \n",
    "        return imgs,targets"
   ]
  },
  {
   "cell_type": "code",
   "execution_count": 14,
   "id": "fa775296",
   "metadata": {
    "execution": {
     "iopub.execute_input": "2025-05-16T17:11:23.978903Z",
     "iopub.status.busy": "2025-05-16T17:11:23.978304Z",
     "iopub.status.idle": "2025-05-16T17:11:23.983190Z",
     "shell.execute_reply": "2025-05-16T17:11:23.982391Z"
    },
    "papermill": {
     "duration": 0.015222,
     "end_time": "2025-05-16T17:11:23.984902",
     "exception": false,
     "start_time": "2025-05-16T17:11:23.969680",
     "status": "completed"
    },
    "tags": []
   },
   "outputs": [],
   "source": [
    "def get_loader(csv_file, root_dir='/kaggle/input/im2latex100k/formula_images_processed/formula_images_processed/', transform=transform, batch_size=32, num_workers=4, shuffle=True, pin_memory=True):\n",
    "    dataset = MyDataset(csv_file=csv_file,root_dir=root_dir, transform=transform)\n",
    "    pad_value = dataset.vocab.stoi[\"[pad]\"]\n",
    "    \n",
    "    loader = DataLoader(dataset=dataset, batch_size=32, num_workers=4, shuffle=True, pin_memory=True, collate_fn=MyCollate(pad_value))\n",
    "    \n",
    "    return loader, dataset"
   ]
  },
  {
   "cell_type": "markdown",
   "id": "cb197397",
   "metadata": {
    "papermill": {
     "duration": 0.007393,
     "end_time": "2025-05-16T17:11:24.000249",
     "exception": false,
     "start_time": "2025-05-16T17:11:23.992856",
     "status": "completed"
    },
    "tags": []
   },
   "source": [
    "# Creating Dataloaders"
   ]
  },
  {
   "cell_type": "code",
   "execution_count": 15,
   "id": "53c7c01e",
   "metadata": {
    "execution": {
     "iopub.execute_input": "2025-05-16T17:11:24.020666Z",
     "iopub.status.busy": "2025-05-16T17:11:24.020328Z",
     "iopub.status.idle": "2025-05-16T17:11:28.622022Z",
     "shell.execute_reply": "2025-05-16T17:11:28.621262Z"
    },
    "papermill": {
     "duration": 4.614616,
     "end_time": "2025-05-16T17:11:28.624038",
     "exception": false,
     "start_time": "2025-05-16T17:11:24.009422",
     "status": "completed"
    },
    "tags": []
   },
   "outputs": [],
   "source": [
    "train_loader, train_dataset = get_loader(csv_file = '/kaggle/input/im2latex100k/im2latex_train.csv')\n",
    "test_loader, test_dataset = get_loader(csv_file = '/kaggle/input/im2latex100k/im2latex_test.csv')\n",
    "val_loader, val_dataset = get_loader(csv_file = '/kaggle/input/im2latex100k/im2latex_validate.csv')"
   ]
  },
  {
   "cell_type": "code",
   "execution_count": 16,
   "id": "190513ee",
   "metadata": {
    "execution": {
     "iopub.execute_input": "2025-05-16T17:11:28.641891Z",
     "iopub.status.busy": "2025-05-16T17:11:28.641299Z",
     "iopub.status.idle": "2025-05-16T17:11:28.644764Z",
     "shell.execute_reply": "2025-05-16T17:11:28.644005Z"
    },
    "papermill": {
     "duration": 0.013964,
     "end_time": "2025-05-16T17:11:28.646253",
     "exception": false,
     "start_time": "2025-05-16T17:11:28.632289",
     "status": "completed"
    },
    "tags": []
   },
   "outputs": [],
   "source": [
    "# l,d = get_loader()"
   ]
  },
  {
   "cell_type": "code",
   "execution_count": 17,
   "id": "9a3a16f5",
   "metadata": {
    "execution": {
     "iopub.execute_input": "2025-05-16T17:11:28.662641Z",
     "iopub.status.busy": "2025-05-16T17:11:28.662359Z",
     "iopub.status.idle": "2025-05-16T17:11:28.665683Z",
     "shell.execute_reply": "2025-05-16T17:11:28.665037Z"
    },
    "papermill": {
     "duration": 0.013206,
     "end_time": "2025-05-16T17:11:28.667135",
     "exception": false,
     "start_time": "2025-05-16T17:11:28.653929",
     "status": "completed"
    },
    "tags": []
   },
   "outputs": [],
   "source": [
    "# a ,b= next(iter(l))"
   ]
  },
  {
   "cell_type": "code",
   "execution_count": 18,
   "id": "58c8874a",
   "metadata": {
    "execution": {
     "iopub.execute_input": "2025-05-16T17:11:28.683533Z",
     "iopub.status.busy": "2025-05-16T17:11:28.683120Z",
     "iopub.status.idle": "2025-05-16T17:11:28.686347Z",
     "shell.execute_reply": "2025-05-16T17:11:28.685626Z"
    },
    "papermill": {
     "duration": 0.013187,
     "end_time": "2025-05-16T17:11:28.688000",
     "exception": false,
     "start_time": "2025-05-16T17:11:28.674813",
     "status": "completed"
    },
    "tags": []
   },
   "outputs": [],
   "source": [
    "# plt.imshow(a[10].permute(1,2,0))"
   ]
  },
  {
   "cell_type": "code",
   "execution_count": 19,
   "id": "7ed40b21",
   "metadata": {
    "execution": {
     "iopub.execute_input": "2025-05-16T17:11:28.704337Z",
     "iopub.status.busy": "2025-05-16T17:11:28.703853Z",
     "iopub.status.idle": "2025-05-16T17:11:28.707158Z",
     "shell.execute_reply": "2025-05-16T17:11:28.706501Z"
    },
    "papermill": {
     "duration": 0.012951,
     "end_time": "2025-05-16T17:11:28.708568",
     "exception": false,
     "start_time": "2025-05-16T17:11:28.695617",
     "status": "completed"
    },
    "tags": []
   },
   "outputs": [],
   "source": [
    "# b[10]"
   ]
  },
  {
   "cell_type": "code",
   "execution_count": 20,
   "id": "afc31fb3",
   "metadata": {
    "execution": {
     "iopub.execute_input": "2025-05-16T17:11:28.725501Z",
     "iopub.status.busy": "2025-05-16T17:11:28.724892Z",
     "iopub.status.idle": "2025-05-16T17:11:28.728154Z",
     "shell.execute_reply": "2025-05-16T17:11:28.727509Z"
    },
    "papermill": {
     "duration": 0.013412,
     "end_time": "2025-05-16T17:11:28.729756",
     "exception": false,
     "start_time": "2025-05-16T17:11:28.716344",
     "status": "completed"
    },
    "tags": []
   },
   "outputs": [],
   "source": [
    "# print(a.shape,b.shape)"
   ]
  },
  {
   "cell_type": "code",
   "execution_count": 21,
   "id": "7ae9074f",
   "metadata": {
    "execution": {
     "iopub.execute_input": "2025-05-16T17:11:28.745734Z",
     "iopub.status.busy": "2025-05-16T17:11:28.745485Z",
     "iopub.status.idle": "2025-05-16T17:11:28.751480Z",
     "shell.execute_reply": "2025-05-16T17:11:28.750762Z"
    },
    "papermill": {
     "duration": 0.01578,
     "end_time": "2025-05-16T17:11:28.753113",
     "exception": false,
     "start_time": "2025-05-16T17:11:28.737333",
     "status": "completed"
    },
    "tags": []
   },
   "outputs": [],
   "source": [
    "class EncoderCnn(nn.Module):\n",
    "    def __init__(self,embed_size):\n",
    "        super(EncoderCnn, self).__init__()\n",
    "        \n",
    "        #using pretrained model \n",
    "        pretrained = models.resnet50(weights=True)\n",
    "        #freezing training of weights\n",
    "        for param in pretrained.parameters():\n",
    "            param.requires_grad = False\n",
    "            \n",
    "        #getting all layers in list module and removed the last layer(we will add our own)\n",
    "        modules = list(pretrained.children())[:-1]\n",
    "        #putting final layers in out variable\n",
    "        self.pretrained = nn.Sequential(*modules)\n",
    "        \n",
    "        #changing last layer and allow it to train\n",
    "        self.fc = nn.Linear(pretrained.fc.in_features, embed_size)\n",
    "        self.batch= nn.BatchNorm1d(embed_size,momentum = 0.01)\n",
    "        self.fc.weight.data.normal_(0., 0.02)\n",
    "        self.fc.bias.data.fill_(0)\n",
    "        \n",
    "    def forward(self,images):\n",
    "        features = self.pretrained(images)\n",
    "        #flattening to pass to fully connected layer\n",
    "        features = features.view(features.size(0),-1)\n",
    "        features = self.batch(self.fc(features))\n",
    "        return features  #[batch, embed_size]\n",
    "    "
   ]
  },
  {
   "cell_type": "code",
   "execution_count": 22,
   "id": "393838f5",
   "metadata": {
    "execution": {
     "iopub.execute_input": "2025-05-16T17:11:28.769736Z",
     "iopub.status.busy": "2025-05-16T17:11:28.769107Z",
     "iopub.status.idle": "2025-05-16T17:11:28.774512Z",
     "shell.execute_reply": "2025-05-16T17:11:28.773891Z"
    },
    "papermill": {
     "duration": 0.015232,
     "end_time": "2025-05-16T17:11:28.776094",
     "exception": false,
     "start_time": "2025-05-16T17:11:28.760862",
     "status": "completed"
    },
    "tags": []
   },
   "outputs": [],
   "source": [
    "class DecoderRnn(nn.Module):\n",
    "    def __init__(self, embed_size,vocab_size, hidden_size, num_layers):\n",
    "        super(DecoderRnn, self).__init__()\n",
    "        self.embedding = nn.Embedding(vocab_size, embed_size) #[batch,seq] -> [batch,seq,embed]\n",
    "        self.lstm = nn.LSTM(embed_size, hidden_size, num_layers,batch_first=True) #[batch,seq,embed]->hiddens[batch,seq,hidden_size]\n",
    "        self.linear = nn.Linear(hidden_size, vocab_size)\n",
    "        self.dropout = nn.Dropout(0.5)\n",
    "    \n",
    "    def forward(self, features, caption):\n",
    "        embeddings = self.dropout(self.embedding(caption)) #[batch,seq] -> [batch,seq,embed]\n",
    "#         print(embeddings.shape)\n",
    "#         print(features.shape)\n",
    "#         z = features.unsqueeze(1)\n",
    "#         print(z.shape)\n",
    "        embeddings = torch.cat((features.unsqueeze(1),embeddings), dim=1)\n",
    "        hiddens, _ = self.lstm(embeddings)\n",
    "        outputs = self.linear(hiddens)\n",
    "        return outputs"
   ]
  },
  {
   "cell_type": "code",
   "execution_count": 23,
   "id": "fa7ce876",
   "metadata": {
    "execution": {
     "iopub.execute_input": "2025-05-16T17:11:28.792424Z",
     "iopub.status.busy": "2025-05-16T17:11:28.791904Z",
     "iopub.status.idle": "2025-05-16T17:11:28.798440Z",
     "shell.execute_reply": "2025-05-16T17:11:28.797750Z"
    },
    "papermill": {
     "duration": 0.016395,
     "end_time": "2025-05-16T17:11:28.800082",
     "exception": false,
     "start_time": "2025-05-16T17:11:28.783687",
     "status": "completed"
    },
    "tags": []
   },
   "outputs": [],
   "source": [
    "class CNN2RNN(nn.Module):\n",
    "    def __init__(self, embed_size, vocab_size, hidden_size, num_layers):\n",
    "        super(CNN2RNN, self).__init__()\n",
    "        self.encoderCNN = EncoderCnn(embed_size)\n",
    "        self.decoderRNN = DecoderRnn(embed_size, vocab_size, hidden_size, num_layers)\n",
    "    \n",
    "    def forward(self, images, caption):\n",
    "        x = self.encoderCNN(images)\n",
    "        x = self.decoderRNN(x, caption)\n",
    "        return x\n",
    "    \n",
    "    def captionImage(self, image, vocabulary, maxlength=200):\n",
    "        result_caption = []\n",
    "        \n",
    "        with torch.no_grad():\n",
    "            x = self.encoderCNN(image).unsqueeze(0)\n",
    "            print(x)\n",
    "            states = None\n",
    "            \n",
    "            for _ in range(maxlength):\n",
    "                hiddens, states = self.decoderRNN.lstm(x, states)\n",
    "                output = self.decoderRNN.linear(hiddens.squeeze(0))\n",
    "                predicted = output.argmax(1)\n",
    "#                 print(predicted)\n",
    "                result_caption.append(predicted.item())\n",
    "#                 print(output.shape)\n",
    "                x = self.decoderRNN.embedding(predicted).unsqueeze(0)\n",
    "#                 print(\"x\",x)\n",
    "                if vocabulary.itos[predicted.item()] == \"[eos]\":\n",
    "                    break\n",
    "        return [vocabulary.itos[i] for i in result_caption]"
   ]
  },
  {
   "cell_type": "code",
   "execution_count": 24,
   "id": "209102e5",
   "metadata": {
    "execution": {
     "iopub.execute_input": "2025-05-16T17:11:28.816531Z",
     "iopub.status.busy": "2025-05-16T17:11:28.816029Z",
     "iopub.status.idle": "2025-05-16T17:11:28.890434Z",
     "shell.execute_reply": "2025-05-16T17:11:28.889703Z"
    },
    "papermill": {
     "duration": 0.084455,
     "end_time": "2025-05-16T17:11:28.892214",
     "exception": false,
     "start_time": "2025-05-16T17:11:28.807759",
     "status": "completed"
    },
    "tags": []
   },
   "outputs": [],
   "source": [
    "save_model = True\n",
    "step = 0\n",
    "embed_size = 300\n",
    "hidden_size = 300\n",
    "num_layers = 2\n",
    "num_epochs = 5\n",
    "learning_rate = 1e-3\n",
    "vocab_size = len(train_dataset.vocab)\n",
    "device = torch.device('cuda' if torch.cuda.is_available() else 'cpu')"
   ]
  },
  {
   "cell_type": "code",
   "execution_count": 25,
   "id": "06bcf884",
   "metadata": {
    "execution": {
     "iopub.execute_input": "2025-05-16T17:11:28.909462Z",
     "iopub.status.busy": "2025-05-16T17:11:28.908815Z",
     "iopub.status.idle": "2025-05-16T17:11:30.492104Z",
     "shell.execute_reply": "2025-05-16T17:11:30.491392Z"
    },
    "papermill": {
     "duration": 1.593978,
     "end_time": "2025-05-16T17:11:30.494199",
     "exception": false,
     "start_time": "2025-05-16T17:11:28.900221",
     "status": "completed"
    },
    "tags": []
   },
   "outputs": [
    {
     "name": "stderr",
     "output_type": "stream",
     "text": [
      "/opt/conda/lib/python3.10/site-packages/torchvision/models/_utils.py:223: UserWarning: Arguments other than a weight enum or `None` for 'weights' are deprecated since 0.13 and may be removed in the future. The current behavior is equivalent to passing `weights=ResNet50_Weights.IMAGENET1K_V1`. You can also use `weights=ResNet50_Weights.DEFAULT` to get the most up-to-date weights.\n",
      "  warnings.warn(msg)\n",
      "Downloading: \"https://download.pytorch.org/models/resnet50-0676ba61.pth\" to /root/.cache/torch/hub/checkpoints/resnet50-0676ba61.pth\n",
      "100%|██████████| 97.8M/97.8M [00:00<00:00, 174MB/s]\n"
     ]
    }
   ],
   "source": [
    "model = CNN2RNN(embed_size=embed_size, hidden_size=hidden_size,vocab_size=vocab_size, num_layers=num_layers).to(device=device)"
   ]
  },
  {
   "cell_type": "code",
   "execution_count": 26,
   "id": "9da2db5f",
   "metadata": {
    "execution": {
     "iopub.execute_input": "2025-05-16T17:11:30.512745Z",
     "iopub.status.busy": "2025-05-16T17:11:30.512259Z",
     "iopub.status.idle": "2025-05-16T17:11:30.517367Z",
     "shell.execute_reply": "2025-05-16T17:11:30.516567Z"
    },
    "papermill": {
     "duration": 0.015935,
     "end_time": "2025-05-16T17:11:30.518957",
     "exception": false,
     "start_time": "2025-05-16T17:11:30.503022",
     "status": "completed"
    },
    "tags": []
   },
   "outputs": [],
   "source": [
    "loss_criterion = nn.CrossEntropyLoss(ignore_index=train_dataset.vocab.stoi[\"[pad]\"])\n",
    "optimizer = optim.Adam(model.parameters(), lr = learning_rate)"
   ]
  },
  {
   "cell_type": "code",
   "execution_count": 27,
   "id": "0ee8306b",
   "metadata": {
    "execution": {
     "iopub.execute_input": "2025-05-16T17:11:30.536439Z",
     "iopub.status.busy": "2025-05-16T17:11:30.536204Z",
     "iopub.status.idle": "2025-05-16T17:11:31.670702Z",
     "shell.execute_reply": "2025-05-16T17:11:31.669722Z"
    },
    "papermill": {
     "duration": 1.145588,
     "end_time": "2025-05-16T17:11:31.672735",
     "exception": false,
     "start_time": "2025-05-16T17:11:30.527147",
     "status": "completed"
    },
    "tags": []
   },
   "outputs": [
    {
     "data": {
      "text/plain": [
       "(torch.Size([32, 3, 224, 448]), torch.Size([32, 125]))"
      ]
     },
     "execution_count": 27,
     "metadata": {},
     "output_type": "execute_result"
    }
   ],
   "source": [
    "imgs,captions = next(iter(train_loader))\n",
    "imgs.shape, captions.shape"
   ]
  },
  {
   "cell_type": "code",
   "execution_count": 28,
   "id": "1d410a75",
   "metadata": {
    "execution": {
     "iopub.execute_input": "2025-05-16T17:11:31.691544Z",
     "iopub.status.busy": "2025-05-16T17:11:31.690931Z",
     "iopub.status.idle": "2025-05-16T17:36:21.106384Z",
     "shell.execute_reply": "2025-05-16T17:36:21.105165Z"
    },
    "papermill": {
     "duration": 1489.4281,
     "end_time": "2025-05-16T17:36:21.109765",
     "exception": false,
     "start_time": "2025-05-16T17:11:31.681665",
     "status": "completed"
    },
    "tags": []
   },
   "outputs": [
    {
     "name": "stderr",
     "output_type": "stream",
     "text": [
      "100%|██████████| 2353/2353 [04:58<00:00,  7.87it/s]\n"
     ]
    },
    {
     "name": "stdout",
     "output_type": "stream",
     "text": [
      "Loss for epoch 0: 1.6755130290985107\n"
     ]
    },
    {
     "name": "stderr",
     "output_type": "stream",
     "text": [
      "100%|██████████| 2353/2353 [04:57<00:00,  7.91it/s]\n"
     ]
    },
    {
     "name": "stdout",
     "output_type": "stream",
     "text": [
      "Loss for epoch 1: 1.876245141029358\n"
     ]
    },
    {
     "name": "stderr",
     "output_type": "stream",
     "text": [
      "100%|██████████| 2353/2353 [04:57<00:00,  7.90it/s]\n"
     ]
    },
    {
     "name": "stdout",
     "output_type": "stream",
     "text": [
      "Loss for epoch 2: 2.0035390853881836\n"
     ]
    },
    {
     "name": "stderr",
     "output_type": "stream",
     "text": [
      "100%|██████████| 2353/2353 [04:57<00:00,  7.91it/s]\n"
     ]
    },
    {
     "name": "stdout",
     "output_type": "stream",
     "text": [
      "Loss for epoch 3: 1.645411491394043\n"
     ]
    },
    {
     "name": "stderr",
     "output_type": "stream",
     "text": [
      "100%|██████████| 2353/2353 [04:57<00:00,  7.90it/s]"
     ]
    },
    {
     "name": "stdout",
     "output_type": "stream",
     "text": [
      "Loss for epoch 4: 1.359038233757019\n"
     ]
    },
    {
     "name": "stderr",
     "output_type": "stream",
     "text": [
      "\n"
     ]
    }
   ],
   "source": [
    "model.train()\n",
    "\n",
    "for epoch in range(num_epochs):\n",
    "    for imgs, captions in tqdm(train_loader):\n",
    "        imgs = imgs.to(device)\n",
    "        captions = captions.to(device)\n",
    "\n",
    "        score = model(imgs, captions[:,:-1])\n",
    "    #         print(score.shape,captions.shape)\n",
    "    #         print(score.reshape(-1, score.shape[2]).shape, captions.reshape(-1).shape)\n",
    "    #         print(\"why are we reshaping it here?\")\n",
    "        optimizer.zero_grad()\n",
    "        loss = loss_criterion(score.reshape(-1, score.shape[2]), captions.reshape(-1))\n",
    "\n",
    "\n",
    "        step += 1\n",
    "\n",
    "        loss.backward()\n",
    "        optimizer.step()\n",
    "    print(f\"Loss for epoch {epoch}: {loss}\")"
   ]
  },
  {
   "cell_type": "code",
   "execution_count": 29,
   "id": "57d7d3ab",
   "metadata": {
    "execution": {
     "iopub.execute_input": "2025-05-16T17:36:22.220992Z",
     "iopub.status.busy": "2025-05-16T17:36:22.220632Z",
     "iopub.status.idle": "2025-05-16T17:36:22.378202Z",
     "shell.execute_reply": "2025-05-16T17:36:22.377168Z"
    },
    "papermill": {
     "duration": 0.735132,
     "end_time": "2025-05-16T17:36:22.380017",
     "exception": false,
     "start_time": "2025-05-16T17:36:21.644885",
     "status": "completed"
    },
    "tags": []
   },
   "outputs": [
    {
     "name": "stdout",
     "output_type": "stream",
     "text": [
      "Model saved to /kaggle/working/image_to_latex.pth\n"
     ]
    }
   ],
   "source": [
    "torch.save(model.state_dict(), '/kaggle/working/image_to_latex.pth')\n",
    "print('Model saved to /kaggle/working/image_to_latex.pth')"
   ]
  },
  {
   "cell_type": "code",
   "execution_count": 30,
   "id": "3cb1df19",
   "metadata": {
    "execution": {
     "iopub.execute_input": "2025-05-16T17:36:23.467297Z",
     "iopub.status.busy": "2025-05-16T17:36:23.466969Z",
     "iopub.status.idle": "2025-05-16T17:36:24.761426Z",
     "shell.execute_reply": "2025-05-16T17:36:24.760475Z"
    },
    "papermill": {
     "duration": 1.861312,
     "end_time": "2025-05-16T17:36:24.763194",
     "exception": false,
     "start_time": "2025-05-16T17:36:22.901882",
     "status": "completed"
    },
    "tags": []
   },
   "outputs": [
    {
     "name": "stdout",
     "output_type": "stream",
     "text": [
      "tensor([[[ 4.4596e-01,  9.6070e-01,  1.7017e-01, -1.5745e-01,  1.9754e+00,\n",
      "          -1.1937e+00, -2.3474e-01,  1.5219e+00,  1.5971e-01,  5.0456e-01,\n",
      "           7.6628e-01,  2.4623e-01, -3.4650e-01, -4.3162e-02,  2.3322e-01,\n",
      "           1.8955e-02,  8.2794e-02,  5.1315e-02,  3.9106e-01,  1.9251e-01,\n",
      "          -5.5653e-01, -2.1668e-01, -3.1748e-01,  1.7394e+00,  4.6057e-01,\n",
      "          -2.2718e-01, -1.5758e-01,  1.0650e+00,  3.7845e-01, -5.0139e-01,\n",
      "           6.3222e-02,  4.6094e-01,  1.0290e+00, -2.3419e-01,  2.1672e-01,\n",
      "           2.0847e-01,  2.5912e+00,  4.7659e-01, -1.6481e+00,  5.5272e-02,\n",
      "           7.2034e-01, -8.3969e-02, -3.9396e-01,  1.3842e+00, -1.7927e+00,\n",
      "           2.9193e-02, -3.4942e-01, -9.9590e-01, -5.5240e-01,  6.0339e-02,\n",
      "           7.6325e-01,  5.9530e-01, -9.2044e-01,  7.4777e-01, -1.2426e+00,\n",
      "           1.5383e-01, -3.6583e-01, -2.8423e-01,  1.9534e+00, -4.8618e-01,\n",
      "          -1.2155e-01,  1.1374e+00, -3.4255e-01,  7.0268e-01, -5.6545e-01,\n",
      "           5.7141e-01, -4.6283e-02, -8.8899e-01, -1.2277e-01, -7.7959e-01,\n",
      "           6.0507e-01, -1.0342e+00, -9.6856e-01,  4.5389e-01, -1.6402e+00,\n",
      "           1.5551e+00, -3.6781e-01, -2.1801e-01,  4.9013e-01,  5.2592e-01,\n",
      "          -2.7677e-01,  3.7953e-01, -1.2798e-01, -4.8732e-01, -6.6461e-01,\n",
      "          -2.0889e-01, -2.8261e-01, -7.6295e-01,  1.3837e+00, -4.5191e-01,\n",
      "          -1.5801e+00, -1.9313e-02,  2.6848e-01,  1.6561e-01,  1.5293e-01,\n",
      "          -1.6526e-01, -6.1621e-01,  4.5560e-01, -1.4484e-01, -2.4390e-01,\n",
      "           1.9002e+00, -1.0113e+00,  1.0153e+00, -3.0819e-02,  8.1058e-02,\n",
      "          -2.9413e-01, -1.1912e+00, -2.0782e-01,  6.2741e-01, -1.4093e-01,\n",
      "           7.1004e-01, -5.6140e-01, -8.2627e-02,  6.3720e-01,  4.9939e-01,\n",
      "          -1.4453e+00,  4.5120e-01,  2.8967e-01, -1.9691e-01,  3.4009e-01,\n",
      "           5.8081e-01,  5.9475e-02,  5.6335e-01,  9.4454e-01,  1.2253e+00,\n",
      "          -2.2911e-01, -2.0170e-01,  4.8349e-01, -2.5032e-02,  7.1082e-01,\n",
      "          -4.7647e-04,  5.3895e-01, -5.0611e-01, -5.5785e-01, -1.3268e-01,\n",
      "           3.6139e-01,  4.2331e-01,  1.2542e+00,  5.3760e-01,  9.3922e-01,\n",
      "           8.3314e-01, -2.1114e-02,  3.6006e-02,  1.1170e+00,  4.6026e-01,\n",
      "          -9.0130e-01, -2.9404e-01,  8.0388e-01, -2.5816e-01, -3.9447e-01,\n",
      "          -4.9350e-01, -9.0884e-01,  5.4780e-01, -5.0102e-01,  3.3075e-01,\n",
      "          -3.4655e-01,  4.9101e-01, -7.2293e-01, -9.9271e-01, -1.5623e+00,\n",
      "           8.0754e-01,  7.4068e-01, -2.3065e+00,  2.3092e-01, -8.1830e-02,\n",
      "          -1.5699e-01, -1.0752e-02, -1.6266e-01,  5.2301e-01,  6.9985e-02,\n",
      "           4.0607e-01, -1.3555e+00, -2.1243e-01,  1.2094e-01,  8.2739e-02,\n",
      "          -3.1343e-02, -1.4640e+00,  1.2074e+00, -3.2528e-01,  7.2394e-01,\n",
      "          -1.0529e+00,  7.7508e-01, -1.9083e-01,  4.3491e-01, -3.4093e-01,\n",
      "          -1.5185e-01,  6.0214e-01,  8.0272e-01,  2.3668e-01, -3.2599e-01,\n",
      "           1.3064e-01,  1.2240e+00,  6.1928e-01,  6.9741e-01, -9.0425e-01,\n",
      "           3.4949e-01, -7.3837e-01,  5.4930e-01,  6.0721e-01,  1.3499e-02,\n",
      "          -2.0839e-01, -5.2255e-01,  9.1556e-01, -6.3571e-02,  7.1819e-01,\n",
      "           1.3386e-01, -6.0534e-02, -9.0179e-01,  2.1090e-01, -3.5046e-01,\n",
      "          -1.7291e-01, -1.3605e-01,  1.0672e-01,  7.3377e-02, -9.8314e-01,\n",
      "          -7.2828e-01,  7.6439e-01,  1.1618e+00,  7.0088e-02, -8.6297e-01,\n",
      "           4.6258e-01, -4.0953e-03, -7.8149e-01, -5.1431e-01,  4.4541e-01,\n",
      "           2.1644e-01,  7.7640e-02,  5.6509e-02, -5.2681e-01, -1.5804e-01,\n",
      "           8.2718e-01,  6.6125e-03, -9.8237e-01, -6.6503e-01,  1.7543e-01,\n",
      "           7.6913e-01,  2.4300e-01,  3.2448e-01, -7.4888e-01,  4.6651e-01,\n",
      "           2.0066e-01, -4.8821e-01,  1.2702e-01, -5.1833e-02,  2.2516e-02,\n",
      "           1.4375e+00,  4.4302e-01, -4.7519e-01,  4.7779e-02, -3.9204e-01,\n",
      "           5.7110e-01, -1.1588e+00, -4.0441e-01, -3.9390e-01,  4.8841e-01,\n",
      "          -1.4450e-01,  1.4441e+00,  8.8580e-01,  1.4696e-01,  1.1779e-01,\n",
      "          -2.2610e-02, -2.4652e-01,  2.0121e-01,  4.9281e-01, -2.4109e-01,\n",
      "          -1.3566e+00, -6.8939e-01, -7.2035e-01, -6.1632e-01,  8.8608e-01,\n",
      "          -7.3962e-01,  5.8481e-01, -7.1626e-01,  1.1717e-01, -4.5250e-02,\n",
      "           4.0638e-01, -1.9197e-02,  1.6151e-01, -3.3339e-02, -3.0317e-03,\n",
      "           2.8827e-01, -3.5383e-01,  1.1242e+00, -7.9172e-01,  1.5491e-01,\n",
      "           7.3952e-02,  6.4532e-01, -8.6979e-03, -3.7750e-01, -1.0951e+00,\n",
      "           1.0058e+00, -4.1377e-01,  1.6828e-01, -2.8969e-01,  2.1430e-01,\n",
      "           3.5141e-01,  4.0523e-01,  5.8965e-01, -7.4398e-01,  6.7431e-02]]],\n",
      "       device='cuda:0')\n",
      "[sos] G ( z , w ) ~ = ~ { \\frac { 1 } { \\pi } } ( l n ~ | z - w | - l n ~ | z - \\bar { w } | ) [eos] [pad] [pad] [pad] [pad] [pad] [pad] [pad] [pad] [pad] [pad] [pad] [pad] [pad] [pad] [pad] [pad] [pad] [pad] [pad] [pad] [pad] [pad] [pad] [pad] [pad] [pad] [pad] [pad] [pad] [pad] [pad] [pad] [pad] [pad] [pad] [pad] [pad] [pad] [pad] [pad] [pad] [pad] [pad] [pad] [pad] [pad] [pad] [pad] [pad] [pad] [pad] [pad] [pad] [pad] [pad] [pad] [pad] [pad] [pad] [pad] [pad] [pad] [pad] [pad] [pad] [pad] [pad] [pad] [pad] [pad] [pad] [pad] [pad] [pad] [pad] [pad] [pad] [pad] [pad] [pad] [pad] [pad] [pad] [pad] [pad] [pad] \n",
      "[sos] \\delta _ { 1 } ( x - y ) = - \\frac { 1 } { 2 } ( \\delta _ { 1 } - \\delta _ { 2 } ) \\delta ( x - y ) . [eos] \n"
     ]
    },
    {
     "data": {
      "image/png": "[encoded data removed]",
      "text/plain": [
       "<Figure size 640x480 with 1 Axes>"
      ]
     },
     "metadata": {},
     "output_type": "display_data"
    }
   ],
   "source": [
    "img,c = next(iter(train_loader))\n",
    "img  = img.cpu()\n",
    "c = c.cpu()\n",
    "n = 11\n",
    "plt.imshow(img[n].permute(1,2,0))\n",
    "img = img[n].unsqueeze(0).to(device)\n",
    "c = c[n].unsqueeze(0).to(device)\n",
    "\n",
    "cap = c.cpu()\n",
    "cap = cap.numpy()[0]\n",
    "\n",
    "cap = [train_dataset.vocab.itos[i] for i in cap]\n",
    "s = \"\"\n",
    "for i in cap:\n",
    "    s+=i\n",
    "    s+=\" \"\n",
    "\n",
    "\n",
    "\n",
    "\n",
    "model.eval()\n",
    "cap = model.captionImage(image=img, vocabulary=train_dataset.vocab)\n",
    "print(s)\n",
    "s = \"\"\n",
    "for i in cap:\n",
    "    s+=i\n",
    "    s+=\" \"\n",
    "print(s)"
   ]
  },
  {
   "cell_type": "code",
   "execution_count": 31,
   "id": "c90c7836",
   "metadata": {
    "execution": {
     "iopub.execute_input": "2025-05-16T17:36:25.858662Z",
     "iopub.status.busy": "2025-05-16T17:36:25.858281Z",
     "iopub.status.idle": "2025-05-16T17:36:26.281161Z",
     "shell.execute_reply": "2025-05-16T17:36:26.280295Z"
    },
    "papermill": {
     "duration": 1.005038,
     "end_time": "2025-05-16T17:36:26.282970",
     "exception": false,
     "start_time": "2025-05-16T17:36:25.277932",
     "status": "completed"
    },
    "tags": []
   },
   "outputs": [
    {
     "name": "stdout",
     "output_type": "stream",
     "text": [
      "(64, 320, 3)\n"
     ]
    },
    {
     "data": {
      "text/plain": [
       "<matplotlib.image.AxesImage at 0x7fca83a0cb80>"
      ]
     },
     "execution_count": 31,
     "metadata": {},
     "output_type": "execute_result"
    },
    {
     "data": {
      "image/png": "[encoded data removed]",
      "text/plain": [
       "<Figure size 640x480 with 1 Axes>"
      ]
     },
     "metadata": {},
     "output_type": "display_data"
    }
   ],
   "source": [
    "import cv2\n",
    "import numpy as np\n",
    "\n",
    "def pad_to_equal(image):\n",
    "    # Get the dimensions of the image\n",
    "    print(image.shape)\n",
    "    h, w ,_= image.shape\n",
    "    \n",
    "    # Determine the larger dimension\n",
    "    max_dim = max(h, w)\n",
    "    \n",
    "    # Calculate the padding required for each dimension\n",
    "    pad_height = max_dim - h\n",
    "    pad_width = max_dim - w\n",
    "    \n",
    "    # Calculate the padding amounts for top, bottom, left, and right\n",
    "    pad_top = pad_height // 2\n",
    "    pad_bottom = pad_height - pad_top\n",
    "    pad_left = pad_width // 2\n",
    "    pad_right = pad_width - pad_left\n",
    "    \n",
    "    # Create a white background for padding\n",
    "    padded_image = np.ones((max_dim, max_dim, 3), dtype=np.uint8) * 255\n",
    "    \n",
    "    # Insert the original image into the padded background\n",
    "    padded_image[pad_top:pad_top+h, pad_left:pad_left+w] = image\n",
    "    \n",
    "    return padded_image\n",
    "\n",
    "\n",
    "# Load the image\n",
    "image = cv2.imread(os.path.join('/kaggle/input/im2latex100k/formula_images_processed/formula_images_processed/',df['image'][342]))\n",
    "# Pad the image\n",
    "padded_image = pad_to_equal(image)\n",
    "\n",
    "padded_image.shape\n",
    "# Show the original and resized images\n",
    "plt.imshow(torch.tensor(padded_image))"
   ]
  },
  {
   "cell_type": "code",
   "execution_count": null,
   "id": "c071b697",
   "metadata": {
    "papermill": {
     "duration": 0.586276,
     "end_time": "2025-05-16T17:36:27.395275",
     "exception": false,
     "start_time": "2025-05-16T17:36:26.808999",
     "status": "completed"
    },
    "tags": []
   },
   "outputs": [],
   "source": []
  }
 ],
 "metadata": {
  "kaggle": {
   "accelerator": "gpu",
   "dataSources": [
    {
     "datasetId": 1260949,
     "sourceId": 2109044,
     "sourceType": "datasetVersion"
    }
   ],
   "dockerImageVersionId": 30699,
   "isGpuEnabled": true,
   "isInternetEnabled": true,
   "language": "python",
   "sourceType": "notebook"
  },
  "kernelspec": {
   "display_name": "Python 3",
   "language": "python",
   "name": "python3"
  },
  "language_info": {
   "codemirror_mode": {
    "name": "ipython",
    "version": 3
   },
   "file_extension": ".py",
   "mimetype": "text/x-python",
   "name": "python",
   "nbconvert_exporter": "python",
   "pygments_lexer": "ipython3",
   "version": "3.10.13"
  },
  "papermill": {
   "default_parameters": {},
   "duration": 1539.710371,
   "end_time": "2025-05-16T17:36:30.211645",
   "environment_variables": {},
   "exception": null,
   "input_path": "__notebook__.ipynb",
   "output_path": "__notebook__.ipynb",
   "parameters": {},
   "start_time": "2025-05-16T17:10:50.501274",
   "version": "2.5.0"
  }
 },
 "nbformat": 4,
 "nbformat_minor": 5
}
